{
 "cells": [
  {
   "cell_type": "code",
   "execution_count": 1,
   "metadata": {},
   "outputs": [],
   "source": [
    "import sqlite3\n",
    "import mysql.connector\n",
    "import pandas as pd\n",
    "import getpass\n",
    "import sqlalchemy as sq\n",
    "import psycopg2\n",
    "import numpy as np\n",
    "import mpl_toolkits\n",
    "from mpl_toolkits.basemap import Basemap\n",
    "import matplotlib.pyplot as plt\n",
    "import datetime\n",
    "from collections import Counter\n",
    "import plotly.plotly as py\n",
    "from plotly.graph_objs import *\n",
    "import plotly \n",
    "import plotly.figure_factory as ff\n",
    "plotly.tools.set_credentials_file(username='mainakchain', api_key='D4yyG8ie5OOYcGe3iN1y')\n",
    "from plotly import __version__\n",
    "from plotly.offline import download_plotlyjs, init_notebook_mode, plot, iplot\n",
    "import plotly.graph_objs as go\n",
    "\n",
    "%matplotlib inline"
   ]
  },
  {
   "cell_type": "code",
   "execution_count": 2,
   "metadata": {},
   "outputs": [
    {
     "name": "stderr",
     "output_type": "stream",
     "text": [
      "/usr/local/lib/python2.7/dist-packages/mpl_toolkits/basemap/__init__.py:1623: MatplotlibDeprecationWarning:\n",
      "\n",
      "The get_axis_bgcolor function was deprecated in version 2.0. Use get_facecolor instead.\n",
      "\n"
     ]
    },
    {
     "data": {
      "text/plain": [
       "<matplotlib.collections.LineCollection at 0x7f8664677d90>"
      ]
     },
     "execution_count": 2,
     "metadata": {},
     "output_type": "execute_result"
    },
    {
     "data": {
      "image/png": "[encoded data removed]",
      "text/plain": [
       "<matplotlib.figure.Figure at 0x7f86a4855110>"
      ]
     },
     "metadata": {},
     "output_type": "display_data"
    }
   ],
   "source": [
    "# from mpl_toolkits.basemap import Basemap\n",
    "import matplotlib.pyplot as plt\n",
    "import numpy as np\n",
    " \n",
    "# make sure the value of resolution is a lowercase L,\n",
    "#  for 'low', not a numeral 1\n",
    "map = Basemap(projection='ortho', lat_0=50, lon_0=-100,\n",
    "              resolution='l', area_thresh=1000.0)\n",
    " \n",
    "map.drawcoastlines()"
   ]
  },
  {
   "cell_type": "code",
   "execution_count": 3,
   "metadata": {},
   "outputs": [],
   "source": [
    "ddf = pd.read_csv('ddf.csv')"
   ]
  },
  {
   "cell_type": "code",
   "execution_count": 4,
   "metadata": {},
   "outputs": [],
   "source": [
    "duration_based = pd.read_csv('duration_histories.csv')"
   ]
  },
  {
   "cell_type": "code",
   "execution_count": 5,
   "metadata": {},
   "outputs": [],
   "source": [
    "cdf = pd.read_csv('consigner_trips.csv')"
   ]
  },
  {
   "cell_type": "code",
   "execution_count": 6,
   "metadata": {},
   "outputs": [],
   "source": [
    "ddf = pd.read_csv('new_ddf.csv')"
   ]
  },
  {
   "cell_type": "code",
   "execution_count": 6,
   "metadata": {
    "collapsed": true
   },
   "outputs": [
    {
     "data": {
      "text/html": [
       "<div>\n",
       "<style>\n",
       "    .dataframe thead tr:only-child th {\n",
       "        text-align: right;\n",
       "    }\n",
       "\n",
       "    .dataframe thead th {\n",
       "        text-align: left;\n",
       "    }\n",
       "\n",
       "    .dataframe tbody tr th {\n",
       "        vertical-align: top;\n",
       "    }\n",
       "</style>\n",
       "<table border=\"1\" class=\"dataframe\">\n",
       "  <thead>\n",
       "    <tr style=\"text-align: right;\">\n",
       "      <th></th>\n",
       "      <th>vehicle_no</th>\n",
       "      <th>distance_travelled</th>\n",
       "      <th>avg_speed</th>\n",
       "      <th>start_timestamp</th>\n",
       "      <th>end_timestamp</th>\n",
       "      <th>start_landmark</th>\n",
       "      <th>end_landmark</th>\n",
       "      <th>old_state</th>\n",
       "      <th>new_state</th>\n",
       "      <th>duration</th>\n",
       "      <th>...</th>\n",
       "      <th>start_lat</th>\n",
       "      <th>start_long</th>\n",
       "      <th>old_distance_km</th>\n",
       "      <th>start_time</th>\n",
       "      <th>end_time</th>\n",
       "      <th>start</th>\n",
       "      <th>end</th>\n",
       "      <th>total_duration</th>\n",
       "      <th>origin</th>\n",
       "      <th>destination</th>\n",
       "    </tr>\n",
       "  </thead>\n",
       "  <tbody>\n",
       "    <tr>\n",
       "      <th>0</th>\n",
       "      <td>AP02TA9077</td>\n",
       "      <td>0.09</td>\n",
       "      <td>7.41</td>\n",
       "      <td>2017-11-29 05:24:08</td>\n",
       "      <td>2017-11-29 05:31:08</td>\n",
       "      <td>Rd Number 6  Bajrangi Bagan  Lakshimi Nagar  B...</td>\n",
       "      <td>Jamshedpur, Jharkhand, India, 831007</td>\n",
       "      <td>stopped</td>\n",
       "      <td>moving</td>\n",
       "      <td>0 days 18:35:46.000000000</td>\n",
       "      <td>...</td>\n",
       "      <td>22.772160</td>\n",
       "      <td>86.216637</td>\n",
       "      <td>7009.43</td>\n",
       "      <td>2017-11-29</td>\n",
       "      <td>2017-11-29</td>\n",
       "      <td>2017-11-29 05:24:08</td>\n",
       "      <td>2017-11-29 23:59:54</td>\n",
       "      <td>18.596111</td>\n",
       "      <td>Jamshedpur</td>\n",
       "      <td>Kondapalli</td>\n",
       "    </tr>\n",
       "    <tr>\n",
       "      <th>1</th>\n",
       "      <td>AP02TA9077</td>\n",
       "      <td>0.06</td>\n",
       "      <td>0.00</td>\n",
       "      <td>2017-11-29 05:31:08</td>\n",
       "      <td>2017-11-29 05:32:08</td>\n",
       "      <td>Jamshedpur, Jharkhand, India, 831007</td>\n",
       "      <td>Jamshedpur, Jharkhand, India, 831007</td>\n",
       "      <td>moving</td>\n",
       "      <td>stopped</td>\n",
       "      <td>0 days 18:35:46.000000000</td>\n",
       "      <td>...</td>\n",
       "      <td>22.772087</td>\n",
       "      <td>86.217445</td>\n",
       "      <td>7009.52</td>\n",
       "      <td>2017-11-29</td>\n",
       "      <td>2017-11-29</td>\n",
       "      <td>2017-11-29 05:24:08</td>\n",
       "      <td>2017-11-29 23:59:54</td>\n",
       "      <td>18.596111</td>\n",
       "      <td>Jamshedpur</td>\n",
       "      <td>Kondapalli</td>\n",
       "    </tr>\n",
       "    <tr>\n",
       "      <th>2</th>\n",
       "      <td>AP02TA9077</td>\n",
       "      <td>0.08</td>\n",
       "      <td>9.26</td>\n",
       "      <td>2017-11-29 05:32:08</td>\n",
       "      <td>2017-11-29 05:33:08</td>\n",
       "      <td>Jamshedpur, Jharkhand, India, 831007</td>\n",
       "      <td>Jamshedpur, Jharkhand, India, 831007</td>\n",
       "      <td>stopped</td>\n",
       "      <td>moving</td>\n",
       "      <td>0 days 18:35:46.000000000</td>\n",
       "      <td>...</td>\n",
       "      <td>22.772421</td>\n",
       "      <td>86.217369</td>\n",
       "      <td>7009.58</td>\n",
       "      <td>2017-11-29</td>\n",
       "      <td>2017-11-29</td>\n",
       "      <td>2017-11-29 05:24:08</td>\n",
       "      <td>2017-11-29 23:59:54</td>\n",
       "      <td>18.596111</td>\n",
       "      <td>Jamshedpur</td>\n",
       "      <td>Kondapalli</td>\n",
       "    </tr>\n",
       "    <tr>\n",
       "      <th>3</th>\n",
       "      <td>AP02TA9077</td>\n",
       "      <td>0.13</td>\n",
       "      <td>1.85</td>\n",
       "      <td>2017-11-29 05:33:08</td>\n",
       "      <td>2017-11-29 05:34:08</td>\n",
       "      <td>Jamshedpur, Jharkhand, India, 831007</td>\n",
       "      <td>Jamshedpur, Jharkhand, India, 831007</td>\n",
       "      <td>moving</td>\n",
       "      <td>stopped</td>\n",
       "      <td>0 days 18:35:46.000000000</td>\n",
       "      <td>...</td>\n",
       "      <td>22.773092</td>\n",
       "      <td>86.217331</td>\n",
       "      <td>7009.66</td>\n",
       "      <td>2017-11-29</td>\n",
       "      <td>2017-11-29</td>\n",
       "      <td>2017-11-29 05:24:08</td>\n",
       "      <td>2017-11-29 23:59:54</td>\n",
       "      <td>18.596111</td>\n",
       "      <td>Jamshedpur</td>\n",
       "      <td>Kondapalli</td>\n",
       "    </tr>\n",
       "    <tr>\n",
       "      <th>4</th>\n",
       "      <td>AP02TA9077</td>\n",
       "      <td>0.24</td>\n",
       "      <td>5.56</td>\n",
       "      <td>2017-11-29 05:34:08</td>\n",
       "      <td>2017-11-29 06:18:19</td>\n",
       "      <td>Jamshedpur, Jharkhand, India, 831007</td>\n",
       "      <td>Jamshedpur, Jharkhand, India, 831007</td>\n",
       "      <td>stopped</td>\n",
       "      <td>moving</td>\n",
       "      <td>0 days 18:35:46.000000000</td>\n",
       "      <td>...</td>\n",
       "      <td>22.772881</td>\n",
       "      <td>86.217110</td>\n",
       "      <td>7009.79</td>\n",
       "      <td>2017-11-29</td>\n",
       "      <td>2017-11-29</td>\n",
       "      <td>2017-11-29 05:24:08</td>\n",
       "      <td>2017-11-29 23:59:54</td>\n",
       "      <td>18.596111</td>\n",
       "      <td>Jamshedpur</td>\n",
       "      <td>Kondapalli</td>\n",
       "    </tr>\n",
       "  </tbody>\n",
       "</table>\n",
       "<p>5 rows × 25 columns</p>\n",
       "</div>"
      ],
      "text/plain": [
       "   vehicle_no  distance_travelled  avg_speed      start_timestamp  \\\n",
       "0  AP02TA9077                0.09       7.41  2017-11-29 05:24:08   \n",
       "1  AP02TA9077                0.06       0.00  2017-11-29 05:31:08   \n",
       "2  AP02TA9077                0.08       9.26  2017-11-29 05:32:08   \n",
       "3  AP02TA9077                0.13       1.85  2017-11-29 05:33:08   \n",
       "4  AP02TA9077                0.24       5.56  2017-11-29 05:34:08   \n",
       "\n",
       "         end_timestamp                                     start_landmark  \\\n",
       "0  2017-11-29 05:31:08  Rd Number 6  Bajrangi Bagan  Lakshimi Nagar  B...   \n",
       "1  2017-11-29 05:32:08               Jamshedpur, Jharkhand, India, 831007   \n",
       "2  2017-11-29 05:33:08               Jamshedpur, Jharkhand, India, 831007   \n",
       "3  2017-11-29 05:34:08               Jamshedpur, Jharkhand, India, 831007   \n",
       "4  2017-11-29 06:18:19               Jamshedpur, Jharkhand, India, 831007   \n",
       "\n",
       "                           end_landmark old_state new_state  \\\n",
       "0  Jamshedpur, Jharkhand, India, 831007   stopped    moving   \n",
       "1  Jamshedpur, Jharkhand, India, 831007    moving   stopped   \n",
       "2  Jamshedpur, Jharkhand, India, 831007   stopped    moving   \n",
       "3  Jamshedpur, Jharkhand, India, 831007    moving   stopped   \n",
       "4  Jamshedpur, Jharkhand, India, 831007   stopped    moving   \n",
       "\n",
       "                    duration     ...      start_lat start_long  \\\n",
       "0  0 days 18:35:46.000000000     ...      22.772160  86.216637   \n",
       "1  0 days 18:35:46.000000000     ...      22.772087  86.217445   \n",
       "2  0 days 18:35:46.000000000     ...      22.772421  86.217369   \n",
       "3  0 days 18:35:46.000000000     ...      22.773092  86.217331   \n",
       "4  0 days 18:35:46.000000000     ...      22.772881  86.217110   \n",
       "\n",
       "  old_distance_km  start_time    end_time                start  \\\n",
       "0         7009.43  2017-11-29  2017-11-29  2017-11-29 05:24:08   \n",
       "1         7009.52  2017-11-29  2017-11-29  2017-11-29 05:24:08   \n",
       "2         7009.58  2017-11-29  2017-11-29  2017-11-29 05:24:08   \n",
       "3         7009.66  2017-11-29  2017-11-29  2017-11-29 05:24:08   \n",
       "4         7009.79  2017-11-29  2017-11-29  2017-11-29 05:24:08   \n",
       "\n",
       "                   end  total_duration      origin destination  \n",
       "0  2017-11-29 23:59:54       18.596111  Jamshedpur  Kondapalli  \n",
       "1  2017-11-29 23:59:54       18.596111  Jamshedpur  Kondapalli  \n",
       "2  2017-11-29 23:59:54       18.596111  Jamshedpur  Kondapalli  \n",
       "3  2017-11-29 23:59:54       18.596111  Jamshedpur  Kondapalli  \n",
       "4  2017-11-29 23:59:54       18.596111  Jamshedpur  Kondapalli  \n",
       "\n",
       "[5 rows x 25 columns]"
      ]
     },
     "execution_count": 6,
     "metadata": {},
     "output_type": "execute_result"
    }
   ],
   "source": [
    "ddf.head()"
   ]
  },
  {
   "cell_type": "code",
   "execution_count": 7,
   "metadata": {},
   "outputs": [],
   "source": [
    "ddf.origin = ddf.origin.astype(str)\n",
    "ddf.destination = ddf.destination.astype(str)"
   ]
  },
  {
   "cell_type": "code",
   "execution_count": 8,
   "metadata": {},
   "outputs": [],
   "source": [
    "ddf['origin'] = ddf['origin'].apply(lambda x: x.upper())\n",
    "ddf['destination'] = ddf['destination'].apply(lambda x: x.upper())"
   ]
  },
  {
   "cell_type": "code",
   "execution_count": 9,
   "metadata": {},
   "outputs": [],
   "source": [
    "ddf['start_timestamp'] = ddf['start_timestamp'].apply(lambda x: datetime.datetime.strptime(x, '%Y-%m-%d %H:%M:%S'))\n",
    "ddf['end_timestamp'] = ddf['end_timestamp'].apply(lambda x: datetime.datetime.strptime(x, '%Y-%m-%d %H:%M:%S'))"
   ]
  },
  {
   "cell_type": "code",
   "execution_count": 10,
   "metadata": {
    "scrolled": false
   },
   "outputs": [
    {
     "data": {
      "text/plain": [
       "FARIDABAD RLY SDG                 8472\n",
       "VISAKHAPATNAM                     6585\n",
       "PUNE                              4259\n",
       "HOSUR                             3998\n",
       "AHMEDABAD                         3807\n",
       "SPL. RLY SIDNG FARIDABAD          2867\n",
       "AURANGABAD                        2799\n",
       "BHIWADI                           2594\n",
       "PALWAL                            1822\n",
       "KOLKATA                           1687\n",
       "ASAUDAH                           1570\n",
       "JAIPUR                            1569\n",
       "INDORE                            1569\n",
       "SRIPERUMBUDUR                     1443\n",
       "VIJAYAWADA                        1430\n",
       "NAGPUR                            1322\n",
       "BANGALORE                         1209\n",
       "FARIDABAD                         1205\n",
       "BHIWANDI                          1201\n",
       "SECUNDERABAD                      1168\n",
       "GANNAVARAM                        1020\n",
       "KANPUR                             936\n",
       "CHENNAI                            912\n",
       "NEW DELHI                          847\n",
       "JAJPUR                             826\n",
       "GURGAON                            772\n",
       "MUMBAI                             744\n",
       "PATNA                              700\n",
       "MEHSANA                            686\n",
       "KALAMBALI                          672\n",
       "                                  ... \n",
       "KOLAGHAT                            18\n",
       "BHUBANESWAR                         17\n",
       "BURDWAN                             15\n",
       "RAJKOT                              14\n",
       "PANTNAGAR                           11\n",
       "BARMER                              10\n",
       "KOLHAR                               7\n",
       "RAICHUR                              7\n",
       "KARUR                                7\n",
       "DHANBAD                              7\n",
       "KICHA                                6\n",
       "KHOPOLI                              6\n",
       "RANIGANJ                             5\n",
       "VADODARA                             5\n",
       "ERODE                                5\n",
       "SAMBALPUR                            3\n",
       "KHARAGPUR                            2\n",
       "CALICUT                              2\n",
       "CHENGALPATTU                         1\n",
       "TALUKA MANDAL, DISTT. AHMEDABA       1\n",
       "BULANDSHAHR                          1\n",
       "VEERAPPANUR                          1\n",
       "THANJAVUR                            1\n",
       "RAIGARH                              1\n",
       "MADURAI                              1\n",
       "DUDHOLA                              1\n",
       "BARDHAMAN                            1\n",
       "GANDHI DHAM                          1\n",
       "HARINAGAR                            1\n",
       "KALYANI                              1\n",
       "Name: destination, Length: 141, dtype: int64"
      ]
     },
     "execution_count": 10,
     "metadata": {},
     "output_type": "execute_result"
    }
   ],
   "source": [
    "ddf.destination.value_counts()"
   ]
  },
  {
   "cell_type": "code",
   "execution_count": 121,
   "metadata": {},
   "outputs": [
    {
     "data": {
      "text/plain": [
       "(3998, 29)"
      ]
     },
     "execution_count": 121,
     "metadata": {},
     "output_type": "execute_result"
    }
   ],
   "source": [
    "ddf[(ddf['origin'] == 'JAMSHEDPUR') & (ddf['destination'] == 'HOSUR')].shape"
   ]
  },
  {
   "cell_type": "code",
   "execution_count": 122,
   "metadata": {},
   "outputs": [],
   "source": [
    "test_df = ddf[(ddf['origin'] == 'JAMSHEDPUR') & (ddf['destination'] == 'HOSUR')]"
   ]
  },
  {
   "cell_type": "code",
   "execution_count": 123,
   "metadata": {},
   "outputs": [
    {
     "name": "stderr",
     "output_type": "stream",
     "text": [
      "/usr/local/lib/python2.7/dist-packages/ipykernel_launcher.py:1: SettingWithCopyWarning:\n",
      "\n",
      "\n",
      "A value is trying to be set on a copy of a slice from a DataFrame.\n",
      "Try using .loc[row_indexer,col_indexer] = value instead\n",
      "\n",
      "See the caveats in the documentation: http://pandas.pydata.org/pandas-docs/stable/indexing.html#indexing-view-versus-copy\n",
      "\n"
     ]
    }
   ],
   "source": [
    "test_df['duration'] = test_df['end_timestamp'] - test_df['start_timestamp']"
   ]
  },
  {
   "cell_type": "code",
   "execution_count": 124,
   "metadata": {},
   "outputs": [],
   "source": [
    "test_df.duration = test_df.duration.apply(lambda x: x.total_seconds()/60)"
   ]
  },
  {
   "cell_type": "code",
   "execution_count": 125,
   "metadata": {
    "scrolled": true
   },
   "outputs": [
    {
     "data": {
      "text/plain": [
       "stopped    2026\n",
       "moving     1971\n",
       "idle          1\n",
       "Name: new_state, dtype: int64"
      ]
     },
     "execution_count": 125,
     "metadata": {},
     "output_type": "execute_result"
    }
   ],
   "source": [
    "test_df.new_state.value_counts()"
   ]
  },
  {
   "cell_type": "code",
   "execution_count": 126,
   "metadata": {},
   "outputs": [
    {
     "name": "stderr",
     "output_type": "stream",
     "text": [
      "/usr/local/lib/python2.7/dist-packages/ipykernel_launcher.py:1: SettingWithCopyWarning:\n",
      "\n",
      "\n",
      "A value is trying to be set on a copy of a slice from a DataFrame.\n",
      "Try using .loc[row_indexer,col_indexer] = value instead\n",
      "\n",
      "See the caveats in the documentation: http://pandas.pydata.org/pandas-docs/stable/indexing.html#indexing-view-versus-copy\n",
      "\n",
      "/usr/local/lib/python2.7/dist-packages/ipykernel_launcher.py:2: SettingWithCopyWarning:\n",
      "\n",
      "\n",
      "A value is trying to be set on a copy of a slice from a DataFrame.\n",
      "Try using .loc[row_indexer,col_indexer] = value instead\n",
      "\n",
      "See the caveats in the documentation: http://pandas.pydata.org/pandas-docs/stable/indexing.html#indexing-view-versus-copy\n",
      "\n",
      "/usr/local/lib/python2.7/dist-packages/ipykernel_launcher.py:3: SettingWithCopyWarning:\n",
      "\n",
      "\n",
      "A value is trying to be set on a copy of a slice from a DataFrame.\n",
      "Try using .loc[row_indexer,col_indexer] = value instead\n",
      "\n",
      "See the caveats in the documentation: http://pandas.pydata.org/pandas-docs/stable/indexing.html#indexing-view-versus-copy\n",
      "\n"
     ]
    }
   ],
   "source": [
    "test_df['stopped'] = 0\n",
    "test_df['idle'] = 0\n",
    "test_df['moving'] = 0"
   ]
  },
  {
   "cell_type": "code",
   "execution_count": 127,
   "metadata": {},
   "outputs": [],
   "source": [
    "for truck in test_df.vehicle_no.unique().tolist():\n",
    "    test_df.loc[(test_df['vehicle_no'] == truck) & (test_df['old_state'] == 'stopped'), 'stopped'] = test_df.loc[(test_df['vehicle_no'] == truck) & (test_df['old_state'] == 'stopped')]['duration']\n",
    "    test_df.loc[(test_df['vehicle_no'] == truck) & (test_df['old_state'] == 'moving'), 'moving'] = test_df.loc[(test_df['vehicle_no'] == truck) & (test_df['old_state'] == 'moving')]['duration']\n",
    "    test_df.loc[(test_df['vehicle_no'] == truck) & (test_df['old_state'] == 'idle'), 'idle'] = test_df.loc[(test_df['vehicle_no'] == truck) & (test_df['old_state'] == 'idle')]['duration']"
   ]
  },
  {
   "cell_type": "code",
   "execution_count": 128,
   "metadata": {},
   "outputs": [],
   "source": [
    "test_df[['stopped','moving','idle']] = test_df[['stopped','moving','idle']].fillna(0)\n"
   ]
  },
  {
   "cell_type": "code",
   "execution_count": 129,
   "metadata": {},
   "outputs": [
    {
     "data": {
      "text/plain": [
       "Index([u'vehicle_no', u'distance_travelled', u'avg_speed', u'start_timestamp',\n",
       "       u'end_timestamp', u'start_landmark', u'end_landmark', u'old_state',\n",
       "       u'new_state', u'duration', u'distance_km', u'createdAt', u'updatedAt',\n",
       "       u'end_lat', u'end_long', u'start_lat', u'start_long',\n",
       "       u'old_distance_km', u'start_time', u'end_time', u'start', u'end',\n",
       "       u'total_duration', u'origin', u'destination', u'stopped', u'moving',\n",
       "       u'idle', u'route'],\n",
       "      dtype='object')"
      ]
     },
     "execution_count": 129,
     "metadata": {},
     "output_type": "execute_result"
    }
   ],
   "source": [
    "test_df.columns"
   ]
  },
  {
   "cell_type": "code",
   "execution_count": 130,
   "metadata": {},
   "outputs": [
    {
     "data": {
      "text/plain": [
       "1439.6833333333334"
      ]
     },
     "execution_count": 130,
     "metadata": {},
     "output_type": "execute_result"
    }
   ],
   "source": [
    "test_df.duration.max()"
   ]
  },
  {
   "cell_type": "code",
   "execution_count": 131,
   "metadata": {},
   "outputs": [],
   "source": [
    "plot_df = test_df[test_df['stopped'] != 0]"
   ]
  },
  {
   "cell_type": "code",
   "execution_count": 132,
   "metadata": {},
   "outputs": [
    {
     "data": {
      "text/html": [
       "<iframe id=\"igraph\" scrolling=\"no\" style=\"border:none;\" seamless=\"seamless\" src=\"https://plot.ly/~mainakchain/6.embed\" height=\"450px\" width=\"600px\"></iframe>"
      ],
      "text/plain": [
       "<plotly.tools.PlotlyDisplay object>"
      ]
     },
     "execution_count": 132,
     "metadata": {},
     "output_type": "execute_result"
    }
   ],
   "source": [
    "fig = ff.create_violin(plot_df['stopped'].tolist(), colors='#3498DB')\n",
    "py.iplot(fig, filename='One Violin')"
   ]
  },
  {
   "cell_type": "code",
   "execution_count": 133,
   "metadata": {
    "scrolled": false
   },
   "outputs": [
    {
     "data": {
      "text/html": [
       "<iframe id=\"igraph\" scrolling=\"no\" style=\"border:none;\" seamless=\"seamless\" src=\"https://plot.ly/~mainakchain/23.embed\" height=\"525px\" width=\"100%\"></iframe>"
      ],
      "text/plain": [
       "<plotly.tools.PlotlyDisplay object>"
      ]
     },
     "execution_count": 133,
     "metadata": {},
     "output_type": "execute_result"
    }
   ],
   "source": [
    "plot_df = test_df[test_df['stopped'] >=150]\n",
    "hour_list = plot_df.duration.tolist()\n",
    "\n",
    "data = Data([\n",
    "    Scattermapbox(\n",
    "        lat= plot_df['start_lat'].tolist(),\n",
    "        lon=plot_df['start_long'].tolist(),\n",
    "        mode='markers',\n",
    "        marker=Marker(\n",
    "            size=9\n",
    "        ),\n",
    "        text=zip(plot_df.start_landmark.tolist(), [ '%.2f' % elem for elem in hour_list ]),\n",
    "    )],\n",
    "    \n",
    "    transforms = [\n",
    "#       dict(\n",
    "#         type = 'filter',\n",
    "#         target = df['year'],\n",
    "#         orientation = '=',\n",
    "#         value = 2007\n",
    "#       ),\n",
    "      dict(\n",
    "        type = 'groupby',\n",
    "        groups = plot_df['duration'],\n",
    "        color='rgb(40,40,40)',\n",
    "    )]\n",
    ")\n",
    "layout = Layout(\n",
    "    autosize=True,\n",
    "    hovermode='closest',\n",
    "    mapbox=dict(\n",
    "#         accesstoken='D4yyG8ie5OOYcGe3iN1y',\n",
    "        bearing=0,\n",
    "        center=dict(\n",
    "            lat=21.146633, \n",
    "            lon=79.08\n",
    "        ),\n",
    "        pitch=0,\n",
    "        zoom=10\n",
    "    ),\n",
    ")\n",
    "\n",
    "fig = dict(data=data, layout=layout)\n",
    "py.iplot(fig, filename='Stops of more than 5 hours')"
   ]
  },
  {
   "cell_type": "code",
   "execution_count": 134,
   "metadata": {},
   "outputs": [
    {
     "data": {
      "text/html": [
       "<iframe id=\"igraph\" scrolling=\"no\" style=\"border:none;\" seamless=\"seamless\" src=\"https://plot.ly/~mainakchain/25.embed\" height=\"525px\" width=\"100%\"></iframe>"
      ],
      "text/plain": [
       "<plotly.tools.PlotlyDisplay object>"
      ]
     },
     "execution_count": 134,
     "metadata": {},
     "output_type": "execute_result"
    }
   ],
   "source": [
    "# df = pd.read_csv('https://raw.githubusercontent.com/plotly/datasets/master/alpha_shape.csv')\n",
    "# df.head()\n",
    "plot_df = test_df[test_df['stopped'] > 120]\n",
    "\n",
    "scatter = dict(\n",
    "    mode = \"markers\",\n",
    "    name = \"y\",\n",
    "    type = \"scatter3d\",    \n",
    "    x = plot_df['start_lat'], y = plot_df['start_long'], z = plot_df['duration'],\n",
    "    marker = dict( size=5, color=\"rgb(169, 15, 64)\" )\n",
    ")\n",
    "clusters = dict(\n",
    "    alphahull = 8,\n",
    "    name = \"y\",\n",
    "    opacity = 0.5,\n",
    "    type = \"mesh3d\",    \n",
    "    x = plot_df['start_lat'], y = plot_df['start_long'], z = plot_df['duration']\n",
    ")\n",
    "layout = dict(\n",
    "    title = '3d point clustering',\n",
    "    scene = dict(\n",
    "        xaxis = dict( zeroline=False ),\n",
    "        yaxis = dict( zeroline=False ),\n",
    "        zaxis = dict( zeroline=False ),\n",
    "    )\n",
    ")\n",
    "fig = dict( data=[scatter, clusters], layout=layout )\n",
    "# Use py.iplot() for IPython notebook\n",
    "py.iplot(fig, filename='3d point clustering')"
   ]
  },
  {
   "cell_type": "code",
   "execution_count": 135,
   "metadata": {},
   "outputs": [
    {
     "data": {
      "text/plain": [
       "Index([u'vehicle_no', u'distance_travelled', u'avg_speed', u'start_timestamp',\n",
       "       u'end_timestamp', u'start_landmark', u'end_landmark', u'old_state',\n",
       "       u'new_state', u'duration', u'distance_km', u'createdAt', u'updatedAt',\n",
       "       u'end_lat', u'end_long', u'start_lat', u'start_long',\n",
       "       u'old_distance_km', u'start_time', u'end_time', u'start', u'end',\n",
       "       u'total_duration', u'origin', u'destination', u'stopped', u'moving',\n",
       "       u'idle', u'route'],\n",
       "      dtype='object')"
      ]
     },
     "execution_count": 135,
     "metadata": {},
     "output_type": "execute_result"
    }
   ],
   "source": [
    "ddf.columns"
   ]
  },
  {
   "cell_type": "code",
   "execution_count": 136,
   "metadata": {},
   "outputs": [
    {
     "data": {
      "text/html": [
       "<div>\n",
       "<style>\n",
       "    .dataframe thead tr:only-child th {\n",
       "        text-align: right;\n",
       "    }\n",
       "\n",
       "    .dataframe thead th {\n",
       "        text-align: left;\n",
       "    }\n",
       "\n",
       "    .dataframe tbody tr th {\n",
       "        vertical-align: top;\n",
       "    }\n",
       "</style>\n",
       "<table border=\"1\" class=\"dataframe\">\n",
       "  <thead>\n",
       "    <tr style=\"text-align: right;\">\n",
       "      <th></th>\n",
       "      <th>vehicle_no</th>\n",
       "      <th>distance_travelled</th>\n",
       "      <th>avg_speed</th>\n",
       "      <th>start_timestamp</th>\n",
       "      <th>end_timestamp</th>\n",
       "      <th>start_landmark</th>\n",
       "      <th>end_landmark</th>\n",
       "      <th>old_state</th>\n",
       "      <th>new_state</th>\n",
       "      <th>duration</th>\n",
       "      <th>...</th>\n",
       "      <th>end_time</th>\n",
       "      <th>start</th>\n",
       "      <th>end</th>\n",
       "      <th>total_duration</th>\n",
       "      <th>origin</th>\n",
       "      <th>destination</th>\n",
       "      <th>stopped</th>\n",
       "      <th>moving</th>\n",
       "      <th>idle</th>\n",
       "      <th>route</th>\n",
       "    </tr>\n",
       "  </thead>\n",
       "  <tbody>\n",
       "    <tr>\n",
       "      <th>0</th>\n",
       "      <td>AP02TA9077</td>\n",
       "      <td>0.09</td>\n",
       "      <td>7.41</td>\n",
       "      <td>2017-11-29 05:24:08</td>\n",
       "      <td>2017-11-29 05:31:08</td>\n",
       "      <td>Rd Number 6  Bajrangi Bagan  Lakshimi Nagar  B...</td>\n",
       "      <td>Jamshedpur, Jharkhand, India, 831007</td>\n",
       "      <td>stopped</td>\n",
       "      <td>moving</td>\n",
       "      <td>7.000000</td>\n",
       "      <td>...</td>\n",
       "      <td>2017-11-29</td>\n",
       "      <td>2017-11-29 05:24:08</td>\n",
       "      <td>2017-11-29 23:59:54</td>\n",
       "      <td>18.596111</td>\n",
       "      <td>JAMSHEDPUR</td>\n",
       "      <td>KONDAPALLI</td>\n",
       "      <td>7.000000</td>\n",
       "      <td>0.0</td>\n",
       "      <td>0.0</td>\n",
       "      <td>JAMSHEDPUR - KONDAPALLI</td>\n",
       "    </tr>\n",
       "    <tr>\n",
       "      <th>1</th>\n",
       "      <td>AP02TA9077</td>\n",
       "      <td>0.06</td>\n",
       "      <td>0.00</td>\n",
       "      <td>2017-11-29 05:31:08</td>\n",
       "      <td>2017-11-29 05:32:08</td>\n",
       "      <td>Jamshedpur, Jharkhand, India, 831007</td>\n",
       "      <td>Jamshedpur, Jharkhand, India, 831007</td>\n",
       "      <td>moving</td>\n",
       "      <td>stopped</td>\n",
       "      <td>1.000000</td>\n",
       "      <td>...</td>\n",
       "      <td>2017-11-29</td>\n",
       "      <td>2017-11-29 05:24:08</td>\n",
       "      <td>2017-11-29 23:59:54</td>\n",
       "      <td>18.596111</td>\n",
       "      <td>JAMSHEDPUR</td>\n",
       "      <td>KONDAPALLI</td>\n",
       "      <td>0.000000</td>\n",
       "      <td>1.0</td>\n",
       "      <td>0.0</td>\n",
       "      <td>JAMSHEDPUR - KONDAPALLI</td>\n",
       "    </tr>\n",
       "    <tr>\n",
       "      <th>2</th>\n",
       "      <td>AP02TA9077</td>\n",
       "      <td>0.08</td>\n",
       "      <td>9.26</td>\n",
       "      <td>2017-11-29 05:32:08</td>\n",
       "      <td>2017-11-29 05:33:08</td>\n",
       "      <td>Jamshedpur, Jharkhand, India, 831007</td>\n",
       "      <td>Jamshedpur, Jharkhand, India, 831007</td>\n",
       "      <td>stopped</td>\n",
       "      <td>moving</td>\n",
       "      <td>1.000000</td>\n",
       "      <td>...</td>\n",
       "      <td>2017-11-29</td>\n",
       "      <td>2017-11-29 05:24:08</td>\n",
       "      <td>2017-11-29 23:59:54</td>\n",
       "      <td>18.596111</td>\n",
       "      <td>JAMSHEDPUR</td>\n",
       "      <td>KONDAPALLI</td>\n",
       "      <td>1.000000</td>\n",
       "      <td>0.0</td>\n",
       "      <td>0.0</td>\n",
       "      <td>JAMSHEDPUR - KONDAPALLI</td>\n",
       "    </tr>\n",
       "    <tr>\n",
       "      <th>3</th>\n",
       "      <td>AP02TA9077</td>\n",
       "      <td>0.13</td>\n",
       "      <td>1.85</td>\n",
       "      <td>2017-11-29 05:33:08</td>\n",
       "      <td>2017-11-29 05:34:08</td>\n",
       "      <td>Jamshedpur, Jharkhand, India, 831007</td>\n",
       "      <td>Jamshedpur, Jharkhand, India, 831007</td>\n",
       "      <td>moving</td>\n",
       "      <td>stopped</td>\n",
       "      <td>1.000000</td>\n",
       "      <td>...</td>\n",
       "      <td>2017-11-29</td>\n",
       "      <td>2017-11-29 05:24:08</td>\n",
       "      <td>2017-11-29 23:59:54</td>\n",
       "      <td>18.596111</td>\n",
       "      <td>JAMSHEDPUR</td>\n",
       "      <td>KONDAPALLI</td>\n",
       "      <td>0.000000</td>\n",
       "      <td>1.0</td>\n",
       "      <td>0.0</td>\n",
       "      <td>JAMSHEDPUR - KONDAPALLI</td>\n",
       "    </tr>\n",
       "    <tr>\n",
       "      <th>4</th>\n",
       "      <td>AP02TA9077</td>\n",
       "      <td>0.24</td>\n",
       "      <td>5.56</td>\n",
       "      <td>2017-11-29 05:34:08</td>\n",
       "      <td>2017-11-29 06:18:19</td>\n",
       "      <td>Jamshedpur, Jharkhand, India, 831007</td>\n",
       "      <td>Jamshedpur, Jharkhand, India, 831007</td>\n",
       "      <td>stopped</td>\n",
       "      <td>moving</td>\n",
       "      <td>44.183333</td>\n",
       "      <td>...</td>\n",
       "      <td>2017-11-29</td>\n",
       "      <td>2017-11-29 05:24:08</td>\n",
       "      <td>2017-11-29 23:59:54</td>\n",
       "      <td>18.596111</td>\n",
       "      <td>JAMSHEDPUR</td>\n",
       "      <td>KONDAPALLI</td>\n",
       "      <td>44.183333</td>\n",
       "      <td>0.0</td>\n",
       "      <td>0.0</td>\n",
       "      <td>JAMSHEDPUR - KONDAPALLI</td>\n",
       "    </tr>\n",
       "  </tbody>\n",
       "</table>\n",
       "<p>5 rows × 29 columns</p>\n",
       "</div>"
      ],
      "text/plain": [
       "   vehicle_no  distance_travelled  avg_speed     start_timestamp  \\\n",
       "0  AP02TA9077                0.09       7.41 2017-11-29 05:24:08   \n",
       "1  AP02TA9077                0.06       0.00 2017-11-29 05:31:08   \n",
       "2  AP02TA9077                0.08       9.26 2017-11-29 05:32:08   \n",
       "3  AP02TA9077                0.13       1.85 2017-11-29 05:33:08   \n",
       "4  AP02TA9077                0.24       5.56 2017-11-29 05:34:08   \n",
       "\n",
       "        end_timestamp                                     start_landmark  \\\n",
       "0 2017-11-29 05:31:08  Rd Number 6  Bajrangi Bagan  Lakshimi Nagar  B...   \n",
       "1 2017-11-29 05:32:08               Jamshedpur, Jharkhand, India, 831007   \n",
       "2 2017-11-29 05:33:08               Jamshedpur, Jharkhand, India, 831007   \n",
       "3 2017-11-29 05:34:08               Jamshedpur, Jharkhand, India, 831007   \n",
       "4 2017-11-29 06:18:19               Jamshedpur, Jharkhand, India, 831007   \n",
       "\n",
       "                           end_landmark old_state new_state   duration  \\\n",
       "0  Jamshedpur, Jharkhand, India, 831007   stopped    moving   7.000000   \n",
       "1  Jamshedpur, Jharkhand, India, 831007    moving   stopped   1.000000   \n",
       "2  Jamshedpur, Jharkhand, India, 831007   stopped    moving   1.000000   \n",
       "3  Jamshedpur, Jharkhand, India, 831007    moving   stopped   1.000000   \n",
       "4  Jamshedpur, Jharkhand, India, 831007   stopped    moving  44.183333   \n",
       "\n",
       "            ...               end_time                start  \\\n",
       "0           ...             2017-11-29  2017-11-29 05:24:08   \n",
       "1           ...             2017-11-29  2017-11-29 05:24:08   \n",
       "2           ...             2017-11-29  2017-11-29 05:24:08   \n",
       "3           ...             2017-11-29  2017-11-29 05:24:08   \n",
       "4           ...             2017-11-29  2017-11-29 05:24:08   \n",
       "\n",
       "                   end  total_duration      origin  destination    stopped  \\\n",
       "0  2017-11-29 23:59:54       18.596111  JAMSHEDPUR   KONDAPALLI   7.000000   \n",
       "1  2017-11-29 23:59:54       18.596111  JAMSHEDPUR   KONDAPALLI   0.000000   \n",
       "2  2017-11-29 23:59:54       18.596111  JAMSHEDPUR   KONDAPALLI   1.000000   \n",
       "3  2017-11-29 23:59:54       18.596111  JAMSHEDPUR   KONDAPALLI   0.000000   \n",
       "4  2017-11-29 23:59:54       18.596111  JAMSHEDPUR   KONDAPALLI  44.183333   \n",
       "\n",
       "   moving idle                    route  \n",
       "0     0.0  0.0  JAMSHEDPUR - KONDAPALLI  \n",
       "1     1.0  0.0  JAMSHEDPUR - KONDAPALLI  \n",
       "2     0.0  0.0  JAMSHEDPUR - KONDAPALLI  \n",
       "3     1.0  0.0  JAMSHEDPUR - KONDAPALLI  \n",
       "4     0.0  0.0  JAMSHEDPUR - KONDAPALLI  \n",
       "\n",
       "[5 rows x 29 columns]"
      ]
     },
     "execution_count": 136,
     "metadata": {},
     "output_type": "execute_result"
    }
   ],
   "source": [
    "ddf.head()"
   ]
  },
  {
   "cell_type": "code",
   "execution_count": 44,
   "metadata": {},
   "outputs": [],
   "source": [
    "dur_travel = test_df[test_df['moving'] != 0]"
   ]
  },
  {
   "cell_type": "code",
   "execution_count": 47,
   "metadata": {
    "scrolled": true
   },
   "outputs": [
    {
     "data": {
      "text/plain": [
       "count    1985.000000\n",
       "mean       24.243149\n",
       "std        30.287079\n",
       "min         0.183333\n",
       "25%         2.000000\n",
       "50%        13.000000\n",
       "75%        37.000000\n",
       "max       418.033333\n",
       "Name: moving, dtype: float64"
      ]
     },
     "execution_count": 47,
     "metadata": {},
     "output_type": "execute_result"
    }
   ],
   "source": [
    "dur_travel['moving'].describe()"
   ]
  },
  {
   "cell_type": "code",
   "execution_count": 59,
   "metadata": {},
   "outputs": [
    {
     "data": {
      "text/plain": [
       "47"
      ]
     },
     "execution_count": 59,
     "metadata": {},
     "output_type": "execute_result"
    }
   ],
   "source": [
    "test_df.groupby('vehicle_no').stopped.sum().tolist()"
   ]
  },
  {
   "cell_type": "code",
   "execution_count": 54,
   "metadata": {
    "collapsed": true
   },
   "outputs": [
    {
     "data": {
      "text/plain": [
       "['AP04TX2171',\n",
       " 'AP07TB1989',\n",
       " 'AP07TU1409',\n",
       " 'AP07TU2566',\n",
       " 'BR01GD7712',\n",
       " 'CG04DM2391',\n",
       " 'CG04FB5095',\n",
       " 'CG08L3445',\n",
       " 'JH01AE6027',\n",
       " 'JH02M1289',\n",
       " 'JH05AD8418',\n",
       " 'JH05AE4540',\n",
       " 'JH05AW6380',\n",
       " 'JH05BQ1509',\n",
       " 'JH05Y2275',\n",
       " 'OD04C1925',\n",
       " 'OD04D5891',\n",
       " 'OD04F1729',\n",
       " 'OD04F2036',\n",
       " 'OD04G4791',\n",
       " 'OD04H5921',\n",
       " 'OD04J1422',\n",
       " 'OD07M1151',\n",
       " 'OR01S7415',\n",
       " 'OR04M5329',\n",
       " 'OR04M6922',\n",
       " 'OR05AD5529',\n",
       " 'OR05AJ1525',\n",
       " 'OR05AJ1911',\n",
       " 'OR05AJ8915',\n",
       " 'OR07AA0311',\n",
       " 'OR07J9793',\n",
       " 'OR07U6675',\n",
       " 'OR07V0091',\n",
       " 'OR07V2855',\n",
       " 'OR07V5231',\n",
       " 'OR07W2988',\n",
       " 'OR07Y9451',\n",
       " 'OR09G6882',\n",
       " 'OR11D4683',\n",
       " 'OR11J1747',\n",
       " 'OR14Q7721',\n",
       " 'TN30U6751',\n",
       " 'TN30Y9767',\n",
       " 'TN90C2988',\n",
       " 'UP67C4257',\n",
       " 'WB23B7298']"
      ]
     },
     "execution_count": 54,
     "metadata": {},
     "output_type": "execute_result"
    }
   ],
   "source": [
    "test_df.vehicle_no.unique().tolist()"
   ]
  },
  {
   "cell_type": "code",
   "execution_count": 137,
   "metadata": {},
   "outputs": [
    {
     "data": {
      "text/html": [
       "<iframe id=\"igraph\" scrolling=\"no\" style=\"border:none;\" seamless=\"seamless\" src=\"https://plot.ly/~mainakchain/27.embed\" height=\"525px\" width=\"100%\"></iframe>"
      ],
      "text/plain": [
       "<plotly.tools.PlotlyDisplay object>"
      ]
     },
     "execution_count": 137,
     "metadata": {},
     "output_type": "execute_result"
    }
   ],
   "source": [
    "trace1 = go.Bar(\n",
    "    x=test_df.vehicle_no.unique().tolist(),\n",
    "    y=test_df.groupby('vehicle_no').stopped.sum().tolist(),\n",
    "    name='stopped',\n",
    "    marker=dict(\n",
    "        color='rgb(55, 83, 109)'\n",
    "    )\n",
    ")\n",
    "trace2 = go.Bar(\n",
    "    x=test_df.vehicle_no.unique().tolist(),\n",
    "    y=test_df.groupby('vehicle_no').moving.sum().tolist(),\n",
    "    name='moving',\n",
    "    marker=dict(\n",
    "        color='rgb(26, 118, 255)'\n",
    "    )\n",
    ")\n",
    "data = [trace1, trace2]\n",
    "layout = go.Layout(\n",
    "    title='Stopped-Moving analysis',\n",
    "    xaxis=dict(\n",
    "        tickfont=dict(\n",
    "            size=14,\n",
    "            color='rgb(107, 107, 107)'\n",
    "        )\n",
    "    ),\n",
    "    yaxis=dict(\n",
    "        title='minutes',\n",
    "        titlefont=dict(\n",
    "            size=16,\n",
    "            color='rgb(107, 107, 107)'\n",
    "        ),\n",
    "        tickfont=dict(\n",
    "            size=14,\n",
    "            color='rgb(107, 107, 107)'\n",
    "        )\n",
    "    ),\n",
    "    legend=dict(\n",
    "        x=0,\n",
    "        y=1.0,\n",
    "        bgcolor='rgba(255, 255, 255, 0)',\n",
    "        bordercolor='rgba(255, 255, 255, 0)'\n",
    "    ),\n",
    "    barmode='group',\n",
    "    bargap=0.15,\n",
    "    bargroupgap=0.1\n",
    ")\n",
    "\n",
    "fig = go.Figure(data=data, layout=layout)\n",
    "py.iplot(fig, filename='Stopped-Moving Analysis')"
   ]
  },
  {
   "cell_type": "code",
   "execution_count": 138,
   "metadata": {},
   "outputs": [],
   "source": [
    "ddf['duration'] = ddf['end_timestamp'] - ddf['start_timestamp']"
   ]
  },
  {
   "cell_type": "code",
   "execution_count": 139,
   "metadata": {},
   "outputs": [],
   "source": [
    "ddf['duration'] = ddf['duration'].apply(lambda x: x.total_seconds()/60)"
   ]
  },
  {
   "cell_type": "code",
   "execution_count": null,
   "metadata": {},
   "outputs": [],
   "source": []
  },
  {
   "cell_type": "code",
   "execution_count": 141,
   "metadata": {},
   "outputs": [],
   "source": [
    "\n",
    "# ddf['stopped'] = 0\n",
    "# ddf['moving'] = 0\n",
    "# ddf['idle'] = 0\n",
    "\n",
    "# for truck in ddf.vehicle_no.unique().tolist():\n",
    "#     ddf.loc[(ddf['vehicle_no'] == truck) & (ddf['old_state'] == 'stopped'), 'stopped'] = ddf.loc[(ddf['vehicle_no'] == truck) & (ddf['old_state'] == 'stopped')]['duration']\n",
    "#     ddf.loc[(ddf['vehicle_no'] == truck) & (ddf['old_state'] == 'moving'), 'moving'] = ddf.loc[(ddf['vehicle_no'] == truck) & (ddf['old_state'] == 'moving')]['duration']\n",
    "#     ddf.loc[(ddf['vehicle_no'] == truck) & (ddf['old_state'] == 'idle'), 'idle'] = ddf.loc[(ddf['vehicle_no'] == truck) & (ddf['old_state'] == 'idle')]['duration']"
   ]
  },
  {
   "cell_type": "code",
   "execution_count": 142,
   "metadata": {},
   "outputs": [
    {
     "data": {
      "text/plain": [
       "moving     32298\n",
       "stopped    30587\n",
       "idle       12439\n",
       "sim           99\n",
       "Name: new_state, dtype: int64"
      ]
     },
     "execution_count": 142,
     "metadata": {},
     "output_type": "execute_result"
    }
   ],
   "source": [
    "ddf.new_state.value_counts()"
   ]
  },
  {
   "cell_type": "code",
   "execution_count": 143,
   "metadata": {},
   "outputs": [
    {
     "data": {
      "text/html": [
       "<iframe id=\"igraph\" scrolling=\"no\" style=\"border:none;\" seamless=\"seamless\" src=\"https://plot.ly/~mainakchain/29.embed\" height=\"525px\" width=\"100%\"></iframe>"
      ],
      "text/plain": [
       "<plotly.tools.PlotlyDisplay object>"
      ]
     },
     "execution_count": 143,
     "metadata": {},
     "output_type": "execute_result"
    }
   ],
   "source": [
    "trace1 = go.Bar(\n",
    "    x=ddf.vehicle_no.unique().tolist(),\n",
    "    y=ddf.groupby('vehicle_no').stopped.sum().tolist(),\n",
    "    name='stopped',\n",
    "    marker=dict(\n",
    "        color='rgb(55, 83, 109)'\n",
    "    )\n",
    ")\n",
    "trace2 = go.Bar(\n",
    "    x=ddf.vehicle_no.unique().tolist(),\n",
    "    y=ddf.groupby('vehicle_no').moving.sum().tolist(),\n",
    "    name='moving',\n",
    "    marker=dict(\n",
    "        color='rgb(26, 118, 255)'\n",
    "    )\n",
    ")\n",
    "\n",
    "trace3 = go.Bar(\n",
    "    x=ddf.vehicle_no.unique().tolist(),\n",
    "    y=ddf.groupby('vehicle_no').idle.sum().tolist(),\n",
    "    name='idle',\n",
    "    marker=dict(\n",
    "        color='rgb(156, 219, 52  )'\n",
    "    )\n",
    ")\n",
    "data = [trace1, trace2, trace3]\n",
    "layout = go.Layout(\n",
    "    title='Stopped-Moving analysis for all routes',\n",
    "    xaxis=dict(\n",
    "        tickfont=dict(\n",
    "            size=14,\n",
    "            color='rgb(107, 107, 107)'\n",
    "        )\n",
    "    ),\n",
    "    yaxis=dict(\n",
    "        title='minutes',\n",
    "        titlefont=dict(\n",
    "            size=16,\n",
    "            color='rgb(107, 107, 107)'\n",
    "        ),\n",
    "        tickfont=dict(\n",
    "            size=14,\n",
    "            color='rgb(107, 107, 107)'\n",
    "        )\n",
    "    ),\n",
    "    legend=dict(\n",
    "        x=0,\n",
    "        y=1.0,\n",
    "        bgcolor='rgba(255, 255, 255, 0)',\n",
    "        bordercolor='rgba(255, 255, 255, 0)'\n",
    "    ),\n",
    "    barmode='group',\n",
    "    bargap=0.15,\n",
    "    bargroupgap=0.1\n",
    ")\n",
    "\n",
    "fig = go.Figure(data=data, layout=layout)\n",
    "py.iplot(fig, filename='Stopped-Moving Analysis for all routes')"
   ]
  },
  {
   "cell_type": "code",
   "execution_count": 77,
   "metadata": {},
   "outputs": [
    {
     "data": {
      "text/plain": [
       "1487"
      ]
     },
     "execution_count": 77,
     "metadata": {},
     "output_type": "execute_result"
    }
   ],
   "source": [
    "ddf.vehicle_no.nunique()"
   ]
  },
  {
   "cell_type": "code",
   "execution_count": 144,
   "metadata": {},
   "outputs": [
    {
     "data": {
      "text/html": [
       "<iframe id=\"igraph\" scrolling=\"no\" style=\"border:none;\" seamless=\"seamless\" src=\"https://plot.ly/~mainakchain/31.embed\" height=\"525px\" width=\"100%\"></iframe>"
      ],
      "text/plain": [
       "<plotly.tools.PlotlyDisplay object>"
      ]
     },
     "execution_count": 144,
     "metadata": {},
     "output_type": "execute_result"
    }
   ],
   "source": [
    "trace0 = go.Scatter(\n",
    "    x=ddf.vehicle_no.unique().tolist(),\n",
    "    y=ddf.groupby('vehicle_no').stopped.sum().tolist(),\n",
    "    name='stopped',\n",
    "    mode = 'lines',\n",
    ")\n",
    "trace1 = go.Scatter(\n",
    "    x=ddf.vehicle_no.unique().tolist(),\n",
    "    y=ddf.groupby('vehicle_no').moving.sum().tolist(),\n",
    "    name='moving',\n",
    "    mode = 'lines+markers',\n",
    ")\n",
    "trace2 = go.Scatter(\n",
    "    x=ddf.vehicle_no.unique().tolist(),\n",
    "    y=ddf.groupby('vehicle_no').idle.sum().tolist(),\n",
    "    name='idle',\n",
    "    mode = 'markers',\n",
    ")\n",
    "\n",
    "\n",
    "layout = go.Layout(\n",
    "    autosize=False,\n",
    "    width=5000,\n",
    "    height=5000,\n",
    "#     margin=go.Margin(\n",
    "#         l=50,\n",
    "#         r=50,\n",
    "#         b=100,\n",
    "#         t=100,\n",
    "#         pad=4\n",
    "#     ),\n",
    "#     paper_bgcolor='#7f7f7f',\n",
    "#     plot_bgcolor='#c7c7c7'\n",
    ")\n",
    "\n",
    "layout = go.Layout(\n",
    "    \n",
    ")\n",
    "data = [trace0, trace1, trace2]\n",
    "\n",
    "\n",
    "\n",
    "py.iplot(data, filename='line-mode')"
   ]
  },
  {
   "cell_type": "code",
   "execution_count": 145,
   "metadata": {},
   "outputs": [],
   "source": [
    "# ddf['route'] = ddf['origin'] + ' - ' + ddf['destination']"
   ]
  },
  {
   "cell_type": "code",
   "execution_count": null,
   "metadata": {},
   "outputs": [],
   "source": []
  },
  {
   "cell_type": "code",
   "execution_count": 146,
   "metadata": {},
   "outputs": [],
   "source": [
    "# cdf.isnull().sum()"
   ]
  },
  {
   "cell_type": "code",
   "execution_count": 98,
   "metadata": {},
   "outputs": [
    {
     "data": {
      "text/plain": [
       "(21165, 48)"
      ]
     },
     "execution_count": 98,
     "metadata": {},
     "output_type": "execute_result"
    }
   ],
   "source": [
    "# cdf.shape"
   ]
  },
  {
   "cell_type": "code",
   "execution_count": 99,
   "metadata": {},
   "outputs": [],
   "source": [
    "# cdf = cdf[pd.notnull(cdf['loading_out_time'])]"
   ]
  },
  {
   "cell_type": "code",
   "execution_count": 100,
   "metadata": {},
   "outputs": [
    {
     "data": {
      "text/plain": [
       "(6430, 48)"
      ]
     },
     "execution_count": 100,
     "metadata": {},
     "output_type": "execute_result"
    }
   ],
   "source": [
    "# cdf.shape"
   ]
  },
  {
   "cell_type": "code",
   "execution_count": 102,
   "metadata": {},
   "outputs": [],
   "source": [
    "# cdf = cdf[pd.notnull(cdf['unloading_in_time'])]"
   ]
  },
  {
   "cell_type": "code",
   "execution_count": 103,
   "metadata": {},
   "outputs": [
    {
     "data": {
      "text/plain": [
       "(5572, 48)"
      ]
     },
     "execution_count": 103,
     "metadata": {},
     "output_type": "execute_result"
    }
   ],
   "source": [
    "# cdf.shape"
   ]
  },
  {
   "cell_type": "code",
   "execution_count": 106,
   "metadata": {},
   "outputs": [
    {
     "data": {
      "text/plain": [
       "False"
      ]
     },
     "execution_count": 106,
     "metadata": {},
     "output_type": "execute_result"
    }
   ],
   "source": [
    "# set(cdf.vehicle_no.unique().tolist() ) <= set(ddf.vehicle_no.unique().tolist() )"
   ]
  },
  {
   "cell_type": "code",
   "execution_count": 107,
   "metadata": {},
   "outputs": [],
   "source": [
    "# ddf_copy = ddf.copy()"
   ]
  },
  {
   "cell_type": "code",
   "execution_count": 108,
   "metadata": {},
   "outputs": [],
   "source": [
    "# ddf = ddf[ddf['vehicle_no'].isin(cdf.vehicle_no.unique().tolist())]"
   ]
  },
  {
   "cell_type": "code",
   "execution_count": 109,
   "metadata": {},
   "outputs": [
    {
     "data": {
      "text/plain": [
       "((75423, 29), (101043, 29))"
      ]
     },
     "execution_count": 109,
     "metadata": {},
     "output_type": "execute_result"
    }
   ],
   "source": [
    "# ddf.shape, ddf_copy.shape"
   ]
  },
  {
   "cell_type": "code",
   "execution_count": 4,
   "metadata": {},
   "outputs": [],
   "source": [
    "# ddf.to_csv('new_ddf.csv', index=False)\n",
    "ddf = pd.read_csv('new_ddf.csv')"
   ]
  },
  {
   "cell_type": "code",
   "execution_count": 5,
   "metadata": {},
   "outputs": [],
   "source": [
    "ddf['route'] = ddf['route'].apply(lambda x: x.lower())"
   ]
  },
  {
   "cell_type": "code",
   "execution_count": 6,
   "metadata": {},
   "outputs": [
    {
     "data": {
      "text/plain": [
       "15247.400000001766"
      ]
     },
     "execution_count": 6,
     "metadata": {},
     "output_type": "execute_result"
    }
   ],
   "source": [
    "ddf[ddf['route'] == 'bamnipal - bhiwandi'].stopped.sum()"
   ]
  },
  {
   "cell_type": "code",
   "execution_count": 158,
   "metadata": {},
   "outputs": [],
   "source": [
    "route_list = ddf.route.unique().tolist()"
   ]
  },
  {
   "cell_type": "code",
   "execution_count": 160,
   "metadata": {},
   "outputs": [],
   "source": [
    "# X_list = []\n",
    "# for route in route_list:\n",
    "#     y_stopped = ddf[ddf['route'] == route]['stopped'].sum()\n",
    "#     y_moving = ddf[ddf['route'] == route]['moving'].sum()\n",
    "#     y_idle = ddf[ddf['route'] == route]['idle'].sun()"
   ]
  },
  {
   "cell_type": "code",
   "execution_count": 179,
   "metadata": {},
   "outputs": [],
   "source": [
    "route_lis = ddf.route.unique().tolist()"
   ]
  },
  {
   "cell_type": "code",
   "execution_count": 183,
   "metadata": {},
   "outputs": [],
   "source": [
    "route_lis = sorted(route_lis)"
   ]
  },
  {
   "cell_type": "code",
   "execution_count": 185,
   "metadata": {},
   "outputs": [
    {
     "data": {
      "text/plain": [
       "182"
      ]
     },
     "execution_count": 185,
     "metadata": {},
     "output_type": "execute_result"
    }
   ],
   "source": [
    "len(route_lis)"
   ]
  },
  {
   "cell_type": "code",
   "execution_count": 189,
   "metadata": {},
   "outputs": [
    {
     "data": {
      "text/plain": [
       "route\n",
       "athagarh - alwar                           56.898333\n",
       "athagarh - bhiwandi                         3.798056\n",
       "athagarh - faridabad                        4.204722\n",
       "athagarh - visakhapatnam                  154.577500\n",
       "bamaloi - faridabad                        91.326667\n",
       "bamaloi - visakhapatnam                   537.288056\n",
       "bamnipal - ahmedabad                        5.821389\n",
       "bamnipal - alwar                            1.116944\n",
       "bamnipal - bhiwandi                       254.123333\n",
       "bamnipal - faridabad                       71.882222\n",
       "bamnipal - jajpur                         300.043333\n",
       "bamnipal - jamshedpur                      35.335556\n",
       "bamnipal - paradip                        150.918889\n",
       "bamnipal - visakhapatnam                  460.591667\n",
       "dhenkanal - ahmedabad                      52.630833\n",
       "dhenkanal - faridabad                      15.481944\n",
       "dhenkanal - visakhapatnam                 663.531389\n",
       "duburi - chennai                            0.000000\n",
       "duburi, jajpur - ahmedabad                  0.000000\n",
       "duburi, jajpur - bahadurgarh                0.000000\n",
       "duburi, jajpur - changodar                  0.000000\n",
       "duburi, jajpur - chennai                    0.000000\n",
       "duburi, jajpur - faridabad                  0.000000\n",
       "duburi, jajpur - ghaziabad                  0.000000\n",
       "duburi, jajpur - hyderabad                  0.000000\n",
       "duburi, jajpur - hyderabad-dist. medak      2.935833\n",
       "duburi, jajpur - ludhiana                   0.000000\n",
       "duburi, jajpur - thiruninravur              0.000000\n",
       "duburi, jajpur - vishakapatnam              0.000000\n",
       "duburi, jajpur - vishakhapatnam             0.000000\n",
       "                                             ...    \n",
       "jamshedpur - veerappanur                    1.549722\n",
       "jamshedpur - vijayawada                   877.580833\n",
       "jamshedpur - visakhapatnam                207.169722\n",
       "jamshedpur - vishakhapatnam                65.878611\n",
       "jharkhand - jaipur                          0.000000\n",
       "jharkhand - new delhi                      37.905556\n",
       "joda - nagpur                              53.050278\n",
       "palwal - htpl- fariadabad                  10.597500\n",
       "palwal - khuskhera                         17.635278\n",
       "pune - jamshedpur                          17.836667\n",
       "raigarh - bhiwandi                         17.642778\n",
       "rourkela - ahmedabad                       39.996667\n",
       "rourkela - bhiwandi                        45.848889\n",
       "rourkela - faridabad                       10.328889\n",
       "rourkela - visakhapatnam                  159.684167\n",
       "vasind - ahmedabad                        244.892778\n",
       "vasind - bengaluru                         90.206389\n",
       "vasind - bhuj                              84.171667\n",
       "vasind - coimbatore                        70.433611\n",
       "vasind - jaipur                           279.188611\n",
       "vasind - jalgaon                           17.409444\n",
       "vasind - manipal                           71.839444\n",
       "vasind - mehsana                           65.889444\n",
       "vasind - mumbai                           417.309444\n",
       "vasind - pune                             355.849722\n",
       "vasind - rajkot                             5.979167\n",
       "vasind - ranjangaon                        84.284722\n",
       "vasind - taloja                            91.361111\n",
       "vasind - tiruchirappalli                    6.008056\n",
       "vasind - vada                              87.372500\n",
       "Name: stopped, Length: 182, dtype: float64"
      ]
     },
     "execution_count": 189,
     "metadata": {},
     "output_type": "execute_result"
    }
   ],
   "source": [
    "ddf.groupby('route').stopped.sum()/60"
   ]
  },
  {
   "cell_type": "code",
   "execution_count": 194,
   "metadata": {},
   "outputs": [
    {
     "data": {
      "text/html": [
       "<iframe id=\"igraph\" scrolling=\"no\" style=\"border:none;\" seamless=\"seamless\" src=\"https://plot.ly/~mainakchain/31.embed\" height=\"525px\" width=\"100%\"></iframe>"
      ],
      "text/plain": [
       "<plotly.tools.PlotlyDisplay object>"
      ]
     },
     "execution_count": 194,
     "metadata": {},
     "output_type": "execute_result"
    }
   ],
   "source": [
    "lis_stopped = ddf.groupby('route').stopped.sum().tolist()\n",
    "lis_moving = ddf.groupby('route').moving.sum().tolist()\n",
    "lis_idle = ddf.groupby('route').idle.sum().tolist()\n",
    "\n",
    "trace0 = go.Scatter(\n",
    "    x=route_lis,\n",
    "    y=[x/60 for x in lis_stopped],   #in hours\n",
    "    name='stopped',\n",
    "    mode = 'lines',\n",
    ")\n",
    "trace1 = go.Scatter(\n",
    "    x=route_lis,\n",
    "    y=[x/60 for x in lis_moving],    #in hours \n",
    "    name='moving',\n",
    "    mode = 'lines',\n",
    ")\n",
    "trace2 = go.Scatter(\n",
    "    x=route_lis,\n",
    "    y=[x/60 for x in lis_idle],   #in hours\n",
    "    name='idle',\n",
    "    mode = 'lines',\n",
    ")\n",
    "\n",
    "\n",
    "layout = go.Layout(\n",
    "    autosize=False,\n",
    "    width=3000,\n",
    "    height=6000,\n",
    "#     margin=go.Margin(\n",
    "#         l=50,\n",
    "#         r=50,\n",
    "#         b=100,\n",
    "#         t=100,\n",
    "#         pad=4\n",
    "#     ),\n",
    "#     paper_bgcolor='#7f7f7f',\n",
    "#     plot_bgcolor='#c7c7c7'\n",
    ")\n",
    "\n",
    "layout = go.Layout(\n",
    "    \n",
    ")\n",
    "data = [trace0, trace1, trace2]\n",
    "\n",
    "\n",
    "\n",
    "py.iplot(data, filename='line-mode')"
   ]
  },
  {
   "cell_type": "code",
   "execution_count": 202,
   "metadata": {},
   "outputs": [],
   "source": [
    "ROUTE = 'jamshedpur - ahmedabad'; # in format: 'origin - destination'   everything in lowercase\n",
    "\n",
    "route_df = ddf[ddf['route'] == ROUTE]   "
   ]
  },
  {
   "cell_type": "code",
   "execution_count": null,
   "metadata": {},
   "outputs": [],
   "source": []
  },
  {
   "cell_type": "code",
   "execution_count": null,
   "metadata": {},
   "outputs": [],
   "source": []
  },
  {
   "cell_type": "code",
   "execution_count": null,
   "metadata": {},
   "outputs": [],
   "source": []
  },
  {
   "cell_type": "code",
   "execution_count": 208,
   "metadata": {},
   "outputs": [
    {
     "data": {
      "text/html": [
       "<iframe id=\"igraph\" scrolling=\"no\" style=\"border:none;\" seamless=\"seamless\" src=\"https://plot.ly/~mainakchain/33.embed\" height=\"525px\" width=\"100%\"></iframe>"
      ],
      "text/plain": [
       "<plotly.tools.PlotlyDisplay object>"
      ]
     },
     "execution_count": 208,
     "metadata": {},
     "output_type": "execute_result"
    }
   ],
   "source": [
    "trace1 = go.Bar(\n",
    "    x=route_df.vehicle_no.unique().tolist(),\n",
    "    y=route_df.groupby('vehicle_no').stopped.sum().tolist(),\n",
    "    name='stopped',\n",
    "    marker=dict(\n",
    "        color='rgb(248, 115, 18 )'\n",
    "    )\n",
    ")\n",
    "trace2 = go.Bar(\n",
    "    x=route_df.vehicle_no.unique().tolist(),\n",
    "    y=route_df.groupby('vehicle_no').moving.sum().tolist(),\n",
    "    name='moving',\n",
    "    marker=dict(\n",
    "        color='rgb(157, 248, 18)'\n",
    "    )\n",
    ")\n",
    "\n",
    "trace3 = go.Bar(\n",
    "    x=route_df.vehicle_no.unique().tolist(),\n",
    "    y=route_df.groupby('vehicle_no').idle.sum().tolist(),\n",
    "    name='idle',\n",
    "    marker=dict(\n",
    "        color='rgb(255, 183, 19)'\n",
    "    )\n",
    ")\n",
    "\n",
    "\n",
    "data = [trace1, trace2, trace3]\n",
    "layout = go.Layout(\n",
    "    title='Stopped-Moving-Idle analysis',\n",
    "    xaxis=dict(\n",
    "        tickfont=dict(\n",
    "            size=14,\n",
    "            color='rgb(107, 107, 107)'\n",
    "        )\n",
    "    ),\n",
    "    yaxis=dict(\n",
    "        title='minutes',\n",
    "        titlefont=dict(\n",
    "            size=16,\n",
    "            color='rgb(107, 107, 107)'\n",
    "        ),\n",
    "        tickfont=dict(\n",
    "            size=14,\n",
    "            color='rgb(107, 107, 107)'\n",
    "        )\n",
    "    ),\n",
    "    legend=dict(\n",
    "        x=0,\n",
    "        y=1.0,\n",
    "        bgcolor='rgba(255, 255, 255, 0)',\n",
    "        bordercolor='rgba(255, 255, 255, 0)'\n",
    "    ),\n",
    "    barmode='group',\n",
    "    bargap=0.15,\n",
    "    bargroupgap=0.1\n",
    ")\n",
    "\n",
    "fig = go.Figure(data=data, layout=layout)\n",
    "py.iplot(fig, filename='Stopped-Moving-Idle Analysis')"
   ]
  },
  {
   "cell_type": "code",
   "execution_count": 8,
   "metadata": {},
   "outputs": [],
   "source": [
    "route_median_mean_std = ddf.groupby('route')[['stopped','moving','idle']].agg(['median','mean','std'])"
   ]
  },
  {
   "cell_type": "code",
   "execution_count": 11,
   "metadata": {
    "scrolled": true
   },
   "outputs": [
    {
     "data": {
      "text/html": [
       "<div>\n",
       "<style>\n",
       "    .dataframe thead tr:only-child th {\n",
       "        text-align: right;\n",
       "    }\n",
       "\n",
       "    .dataframe thead th {\n",
       "        text-align: left;\n",
       "    }\n",
       "\n",
       "    .dataframe tbody tr th {\n",
       "        vertical-align: top;\n",
       "    }\n",
       "</style>\n",
       "<table border=\"1\" class=\"dataframe\">\n",
       "  <thead>\n",
       "    <tr>\n",
       "      <th></th>\n",
       "      <th colspan=\"3\" halign=\"left\">stopped</th>\n",
       "      <th colspan=\"3\" halign=\"left\">moving</th>\n",
       "      <th colspan=\"3\" halign=\"left\">idle</th>\n",
       "    </tr>\n",
       "    <tr>\n",
       "      <th></th>\n",
       "      <th>median</th>\n",
       "      <th>mean</th>\n",
       "      <th>std</th>\n",
       "      <th>median</th>\n",
       "      <th>mean</th>\n",
       "      <th>std</th>\n",
       "      <th>median</th>\n",
       "      <th>mean</th>\n",
       "      <th>std</th>\n",
       "    </tr>\n",
       "    <tr>\n",
       "      <th>route</th>\n",
       "      <th></th>\n",
       "      <th></th>\n",
       "      <th></th>\n",
       "      <th></th>\n",
       "      <th></th>\n",
       "      <th></th>\n",
       "      <th></th>\n",
       "      <th></th>\n",
       "      <th></th>\n",
       "    </tr>\n",
       "  </thead>\n",
       "  <tbody>\n",
       "    <tr>\n",
       "      <th>athagarh - alwar</th>\n",
       "      <td>0.983333</td>\n",
       "      <td>106.684375</td>\n",
       "      <td>253.388819</td>\n",
       "      <td>0.000000</td>\n",
       "      <td>4.950000</td>\n",
       "      <td>9.404684</td>\n",
       "      <td>0.000000</td>\n",
       "      <td>0.000000</td>\n",
       "      <td>0.000000</td>\n",
       "    </tr>\n",
       "    <tr>\n",
       "      <th>athagarh - bhiwandi</th>\n",
       "      <td>0.000000</td>\n",
       "      <td>2.921581</td>\n",
       "      <td>10.892111</td>\n",
       "      <td>2.500000</td>\n",
       "      <td>13.421368</td>\n",
       "      <td>23.427823</td>\n",
       "      <td>0.000000</td>\n",
       "      <td>0.000000</td>\n",
       "      <td>0.000000</td>\n",
       "    </tr>\n",
       "    <tr>\n",
       "      <th>athagarh - faridabad</th>\n",
       "      <td>1.200000</td>\n",
       "      <td>14.840196</td>\n",
       "      <td>44.619520</td>\n",
       "      <td>0.000000</td>\n",
       "      <td>2.396078</td>\n",
       "      <td>4.180471</td>\n",
       "      <td>0.000000</td>\n",
       "      <td>0.000000</td>\n",
       "      <td>0.000000</td>\n",
       "    </tr>\n",
       "    <tr>\n",
       "      <th>athagarh - visakhapatnam</th>\n",
       "      <td>0.975000</td>\n",
       "      <td>36.229102</td>\n",
       "      <td>102.748152</td>\n",
       "      <td>0.000000</td>\n",
       "      <td>9.180013</td>\n",
       "      <td>18.146939</td>\n",
       "      <td>0.000000</td>\n",
       "      <td>0.000000</td>\n",
       "      <td>0.000000</td>\n",
       "    </tr>\n",
       "    <tr>\n",
       "      <th>bamaloi - faridabad</th>\n",
       "      <td>1.000000</td>\n",
       "      <td>35.581818</td>\n",
       "      <td>98.256994</td>\n",
       "      <td>0.000000</td>\n",
       "      <td>8.181710</td>\n",
       "      <td>19.229534</td>\n",
       "      <td>0.000000</td>\n",
       "      <td>0.000000</td>\n",
       "      <td>0.000000</td>\n",
       "    </tr>\n",
       "    <tr>\n",
       "      <th>bamaloi - visakhapatnam</th>\n",
       "      <td>0.000000</td>\n",
       "      <td>17.539327</td>\n",
       "      <td>62.933176</td>\n",
       "      <td>0.000000</td>\n",
       "      <td>8.419097</td>\n",
       "      <td>30.604344</td>\n",
       "      <td>0.000000</td>\n",
       "      <td>0.911616</td>\n",
       "      <td>7.852984</td>\n",
       "    </tr>\n",
       "    <tr>\n",
       "      <th>bamnipal - ahmedabad</th>\n",
       "      <td>2.008333</td>\n",
       "      <td>19.404630</td>\n",
       "      <td>34.596358</td>\n",
       "      <td>0.000000</td>\n",
       "      <td>10.819444</td>\n",
       "      <td>18.511465</td>\n",
       "      <td>0.000000</td>\n",
       "      <td>0.000000</td>\n",
       "      <td>0.000000</td>\n",
       "    </tr>\n",
       "    <tr>\n",
       "      <th>bamnipal - alwar</th>\n",
       "      <td>0.500000</td>\n",
       "      <td>11.169444</td>\n",
       "      <td>24.496917</td>\n",
       "      <td>1.000000</td>\n",
       "      <td>1.833333</td>\n",
       "      <td>2.228602</td>\n",
       "      <td>0.000000</td>\n",
       "      <td>0.000000</td>\n",
       "      <td>0.000000</td>\n",
       "    </tr>\n",
       "    <tr>\n",
       "      <th>bamnipal - bhiwandi</th>\n",
       "      <td>0.500000</td>\n",
       "      <td>15.606346</td>\n",
       "      <td>72.261332</td>\n",
       "      <td>0.000000</td>\n",
       "      <td>8.162180</td>\n",
       "      <td>17.839277</td>\n",
       "      <td>0.000000</td>\n",
       "      <td>0.000000</td>\n",
       "      <td>0.000000</td>\n",
       "    </tr>\n",
       "    <tr>\n",
       "      <th>bamnipal - faridabad</th>\n",
       "      <td>0.483333</td>\n",
       "      <td>22.004762</td>\n",
       "      <td>79.246121</td>\n",
       "      <td>0.500000</td>\n",
       "      <td>9.907738</td>\n",
       "      <td>19.167514</td>\n",
       "      <td>0.000000</td>\n",
       "      <td>0.000000</td>\n",
       "      <td>0.000000</td>\n",
       "    </tr>\n",
       "    <tr>\n",
       "      <th>bamnipal - jajpur</th>\n",
       "      <td>0.000000</td>\n",
       "      <td>21.794915</td>\n",
       "      <td>59.045897</td>\n",
       "      <td>0.000000</td>\n",
       "      <td>3.714144</td>\n",
       "      <td>8.554817</td>\n",
       "      <td>0.000000</td>\n",
       "      <td>1.575363</td>\n",
       "      <td>13.105839</td>\n",
       "    </tr>\n",
       "    <tr>\n",
       "      <th>bamnipal - jamshedpur</th>\n",
       "      <td>1.000000</td>\n",
       "      <td>41.571242</td>\n",
       "      <td>116.061464</td>\n",
       "      <td>0.000000</td>\n",
       "      <td>6.398366</td>\n",
       "      <td>13.458112</td>\n",
       "      <td>0.000000</td>\n",
       "      <td>0.000000</td>\n",
       "      <td>0.000000</td>\n",
       "    </tr>\n",
       "    <tr>\n",
       "      <th>bamnipal - paradip</th>\n",
       "      <td>18.983333</td>\n",
       "      <td>137.198990</td>\n",
       "      <td>215.767006</td>\n",
       "      <td>0.000000</td>\n",
       "      <td>0.363384</td>\n",
       "      <td>0.736434</td>\n",
       "      <td>0.000000</td>\n",
       "      <td>31.538131</td>\n",
       "      <td>138.545455</td>\n",
       "    </tr>\n",
       "    <tr>\n",
       "      <th>bamnipal - visakhapatnam</th>\n",
       "      <td>0.000000</td>\n",
       "      <td>26.700966</td>\n",
       "      <td>124.681840</td>\n",
       "      <td>0.000000</td>\n",
       "      <td>6.011320</td>\n",
       "      <td>14.434411</td>\n",
       "      <td>0.000000</td>\n",
       "      <td>0.196312</td>\n",
       "      <td>0.660817</td>\n",
       "    </tr>\n",
       "    <tr>\n",
       "      <th>dhenkanal - ahmedabad</th>\n",
       "      <td>0.000000</td>\n",
       "      <td>18.575588</td>\n",
       "      <td>78.933210</td>\n",
       "      <td>0.066667</td>\n",
       "      <td>17.581275</td>\n",
       "      <td>62.080446</td>\n",
       "      <td>0.000000</td>\n",
       "      <td>0.000000</td>\n",
       "      <td>0.000000</td>\n",
       "    </tr>\n",
       "    <tr>\n",
       "      <th>dhenkanal - faridabad</th>\n",
       "      <td>1.000000</td>\n",
       "      <td>27.321078</td>\n",
       "      <td>96.752382</td>\n",
       "      <td>0.000000</td>\n",
       "      <td>2.676471</td>\n",
       "      <td>8.692458</td>\n",
       "      <td>0.000000</td>\n",
       "      <td>0.000000</td>\n",
       "      <td>0.000000</td>\n",
       "    </tr>\n",
       "    <tr>\n",
       "      <th>dhenkanal - visakhapatnam</th>\n",
       "      <td>0.000000</td>\n",
       "      <td>23.446339</td>\n",
       "      <td>81.074418</td>\n",
       "      <td>0.000000</td>\n",
       "      <td>6.540587</td>\n",
       "      <td>16.259677</td>\n",
       "      <td>0.000000</td>\n",
       "      <td>0.304535</td>\n",
       "      <td>2.937758</td>\n",
       "    </tr>\n",
       "    <tr>\n",
       "      <th>duburi - chennai</th>\n",
       "      <td>0.000000</td>\n",
       "      <td>0.000000</td>\n",
       "      <td>0.000000</td>\n",
       "      <td>0.000000</td>\n",
       "      <td>28.332716</td>\n",
       "      <td>40.402041</td>\n",
       "      <td>15.000000</td>\n",
       "      <td>130.001235</td>\n",
       "      <td>227.408463</td>\n",
       "    </tr>\n",
       "    <tr>\n",
       "      <th>duburi, jajpur - ahmedabad</th>\n",
       "      <td>0.000000</td>\n",
       "      <td>0.000000</td>\n",
       "      <td>0.000000</td>\n",
       "      <td>0.000000</td>\n",
       "      <td>42.602482</td>\n",
       "      <td>69.292647</td>\n",
       "      <td>14.991667</td>\n",
       "      <td>124.153014</td>\n",
       "      <td>258.542864</td>\n",
       "    </tr>\n",
       "    <tr>\n",
       "      <th>duburi, jajpur - bahadurgarh</th>\n",
       "      <td>0.000000</td>\n",
       "      <td>0.000000</td>\n",
       "      <td>0.000000</td>\n",
       "      <td>0.000000</td>\n",
       "      <td>35.673834</td>\n",
       "      <td>56.408531</td>\n",
       "      <td>15.000000</td>\n",
       "      <td>97.228670</td>\n",
       "      <td>231.253065</td>\n",
       "    </tr>\n",
       "    <tr>\n",
       "      <th>duburi, jajpur - changodar</th>\n",
       "      <td>0.000000</td>\n",
       "      <td>0.000000</td>\n",
       "      <td>0.000000</td>\n",
       "      <td>0.000000</td>\n",
       "      <td>45.002151</td>\n",
       "      <td>72.045936</td>\n",
       "      <td>14.966667</td>\n",
       "      <td>92.902151</td>\n",
       "      <td>184.134725</td>\n",
       "    </tr>\n",
       "    <tr>\n",
       "      <th>duburi, jajpur - chennai</th>\n",
       "      <td>0.000000</td>\n",
       "      <td>0.000000</td>\n",
       "      <td>0.000000</td>\n",
       "      <td>0.000000</td>\n",
       "      <td>36.865962</td>\n",
       "      <td>62.087407</td>\n",
       "      <td>15.000000</td>\n",
       "      <td>158.820481</td>\n",
       "      <td>338.524332</td>\n",
       "    </tr>\n",
       "    <tr>\n",
       "      <th>duburi, jajpur - faridabad</th>\n",
       "      <td>0.000000</td>\n",
       "      <td>0.000000</td>\n",
       "      <td>0.000000</td>\n",
       "      <td>0.000000</td>\n",
       "      <td>38.302246</td>\n",
       "      <td>62.269606</td>\n",
       "      <td>14.983333</td>\n",
       "      <td>123.399409</td>\n",
       "      <td>262.679390</td>\n",
       "    </tr>\n",
       "    <tr>\n",
       "      <th>duburi, jajpur - ghaziabad</th>\n",
       "      <td>0.000000</td>\n",
       "      <td>0.000000</td>\n",
       "      <td>0.000000</td>\n",
       "      <td>0.000000</td>\n",
       "      <td>48.333333</td>\n",
       "      <td>123.186850</td>\n",
       "      <td>60.033333</td>\n",
       "      <td>585.003704</td>\n",
       "      <td>676.700913</td>\n",
       "    </tr>\n",
       "    <tr>\n",
       "      <th>duburi, jajpur - hyderabad</th>\n",
       "      <td>0.000000</td>\n",
       "      <td>0.000000</td>\n",
       "      <td>0.000000</td>\n",
       "      <td>0.000000</td>\n",
       "      <td>40.230243</td>\n",
       "      <td>62.963888</td>\n",
       "      <td>15.000000</td>\n",
       "      <td>129.636645</td>\n",
       "      <td>247.793587</td>\n",
       "    </tr>\n",
       "    <tr>\n",
       "      <th>duburi, jajpur - hyderabad-dist. medak</th>\n",
       "      <td>0.000000</td>\n",
       "      <td>1.726961</td>\n",
       "      <td>13.880355</td>\n",
       "      <td>0.000000</td>\n",
       "      <td>28.087908</td>\n",
       "      <td>56.378072</td>\n",
       "      <td>15.000000</td>\n",
       "      <td>209.421242</td>\n",
       "      <td>387.272827</td>\n",
       "    </tr>\n",
       "    <tr>\n",
       "      <th>duburi, jajpur - ludhiana</th>\n",
       "      <td>0.000000</td>\n",
       "      <td>0.000000</td>\n",
       "      <td>0.000000</td>\n",
       "      <td>0.000000</td>\n",
       "      <td>50.330556</td>\n",
       "      <td>93.129643</td>\n",
       "      <td>7.491667</td>\n",
       "      <td>68.420486</td>\n",
       "      <td>208.905966</td>\n",
       "    </tr>\n",
       "    <tr>\n",
       "      <th>duburi, jajpur - thiruninravur</th>\n",
       "      <td>0.000000</td>\n",
       "      <td>0.000000</td>\n",
       "      <td>0.000000</td>\n",
       "      <td>0.000000</td>\n",
       "      <td>36.537500</td>\n",
       "      <td>65.204874</td>\n",
       "      <td>15.000000</td>\n",
       "      <td>141.588542</td>\n",
       "      <td>303.853561</td>\n",
       "    </tr>\n",
       "    <tr>\n",
       "      <th>duburi, jajpur - vishakapatnam</th>\n",
       "      <td>0.000000</td>\n",
       "      <td>0.000000</td>\n",
       "      <td>0.000000</td>\n",
       "      <td>0.000000</td>\n",
       "      <td>38.286910</td>\n",
       "      <td>61.982089</td>\n",
       "      <td>15.000000</td>\n",
       "      <td>169.931279</td>\n",
       "      <td>335.066448</td>\n",
       "    </tr>\n",
       "    <tr>\n",
       "      <th>duburi, jajpur - vishakhapatnam</th>\n",
       "      <td>0.000000</td>\n",
       "      <td>0.000000</td>\n",
       "      <td>0.000000</td>\n",
       "      <td>0.000000</td>\n",
       "      <td>34.778854</td>\n",
       "      <td>57.953356</td>\n",
       "      <td>15.000000</td>\n",
       "      <td>134.439062</td>\n",
       "      <td>266.540559</td>\n",
       "    </tr>\n",
       "    <tr>\n",
       "      <th>...</th>\n",
       "      <td>...</td>\n",
       "      <td>...</td>\n",
       "      <td>...</td>\n",
       "      <td>...</td>\n",
       "      <td>...</td>\n",
       "      <td>...</td>\n",
       "      <td>...</td>\n",
       "      <td>...</td>\n",
       "      <td>...</td>\n",
       "    </tr>\n",
       "    <tr>\n",
       "      <th>jamshedpur - veerappanur</th>\n",
       "      <td>92.983333</td>\n",
       "      <td>92.983333</td>\n",
       "      <td>NaN</td>\n",
       "      <td>0.000000</td>\n",
       "      <td>0.000000</td>\n",
       "      <td>NaN</td>\n",
       "      <td>0.000000</td>\n",
       "      <td>0.000000</td>\n",
       "      <td>NaN</td>\n",
       "    </tr>\n",
       "    <tr>\n",
       "      <th>jamshedpur - vijayawada</th>\n",
       "      <td>1.000000</td>\n",
       "      <td>36.821573</td>\n",
       "      <td>136.131833</td>\n",
       "      <td>0.000000</td>\n",
       "      <td>11.264569</td>\n",
       "      <td>23.822901</td>\n",
       "      <td>0.000000</td>\n",
       "      <td>0.000000</td>\n",
       "      <td>0.000000</td>\n",
       "    </tr>\n",
       "    <tr>\n",
       "      <th>jamshedpur - visakhapatnam</th>\n",
       "      <td>0.000000</td>\n",
       "      <td>25.111481</td>\n",
       "      <td>104.739395</td>\n",
       "      <td>0.000000</td>\n",
       "      <td>12.378923</td>\n",
       "      <td>33.887470</td>\n",
       "      <td>0.000000</td>\n",
       "      <td>12.907811</td>\n",
       "      <td>94.905346</td>\n",
       "    </tr>\n",
       "    <tr>\n",
       "      <th>jamshedpur - vishakhapatnam</th>\n",
       "      <td>0.000000</td>\n",
       "      <td>16.133537</td>\n",
       "      <td>50.536303</td>\n",
       "      <td>0.000000</td>\n",
       "      <td>9.370408</td>\n",
       "      <td>19.325484</td>\n",
       "      <td>0.000000</td>\n",
       "      <td>0.000000</td>\n",
       "      <td>0.000000</td>\n",
       "    </tr>\n",
       "    <tr>\n",
       "      <th>jharkhand - jaipur</th>\n",
       "      <td>0.000000</td>\n",
       "      <td>0.000000</td>\n",
       "      <td>0.000000</td>\n",
       "      <td>0.000000</td>\n",
       "      <td>25.908081</td>\n",
       "      <td>46.274134</td>\n",
       "      <td>29.983333</td>\n",
       "      <td>276.361616</td>\n",
       "      <td>443.146402</td>\n",
       "    </tr>\n",
       "    <tr>\n",
       "      <th>jharkhand - new delhi</th>\n",
       "      <td>0.000000</td>\n",
       "      <td>16.972637</td>\n",
       "      <td>82.176841</td>\n",
       "      <td>0.000000</td>\n",
       "      <td>17.938557</td>\n",
       "      <td>39.063001</td>\n",
       "      <td>0.000000</td>\n",
       "      <td>29.102985</td>\n",
       "      <td>147.347983</td>\n",
       "    </tr>\n",
       "    <tr>\n",
       "      <th>joda - nagpur</th>\n",
       "      <td>0.183333</td>\n",
       "      <td>16.841358</td>\n",
       "      <td>61.215461</td>\n",
       "      <td>0.000000</td>\n",
       "      <td>8.522222</td>\n",
       "      <td>35.416188</td>\n",
       "      <td>0.000000</td>\n",
       "      <td>0.000000</td>\n",
       "      <td>0.000000</td>\n",
       "    </tr>\n",
       "    <tr>\n",
       "      <th>palwal - htpl- fariadabad</th>\n",
       "      <td>0.000000</td>\n",
       "      <td>27.645652</td>\n",
       "      <td>127.251152</td>\n",
       "      <td>0.000000</td>\n",
       "      <td>1.651449</td>\n",
       "      <td>2.403496</td>\n",
       "      <td>0.000000</td>\n",
       "      <td>0.589130</td>\n",
       "      <td>0.903774</td>\n",
       "    </tr>\n",
       "    <tr>\n",
       "      <th>palwal - khuskhera</th>\n",
       "      <td>0.000000</td>\n",
       "      <td>15.115952</td>\n",
       "      <td>89.995511</td>\n",
       "      <td>0.000000</td>\n",
       "      <td>1.788571</td>\n",
       "      <td>4.072017</td>\n",
       "      <td>0.100000</td>\n",
       "      <td>3.662381</td>\n",
       "      <td>16.377300</td>\n",
       "    </tr>\n",
       "    <tr>\n",
       "      <th>pune - jamshedpur</th>\n",
       "      <td>1070.200000</td>\n",
       "      <td>1070.200000</td>\n",
       "      <td>NaN</td>\n",
       "      <td>0.000000</td>\n",
       "      <td>0.000000</td>\n",
       "      <td>NaN</td>\n",
       "      <td>0.000000</td>\n",
       "      <td>0.000000</td>\n",
       "      <td>NaN</td>\n",
       "    </tr>\n",
       "    <tr>\n",
       "      <th>raigarh - bhiwandi</th>\n",
       "      <td>1.000000</td>\n",
       "      <td>22.053472</td>\n",
       "      <td>78.095100</td>\n",
       "      <td>0.000000</td>\n",
       "      <td>13.418056</td>\n",
       "      <td>25.078976</td>\n",
       "      <td>0.000000</td>\n",
       "      <td>0.000000</td>\n",
       "      <td>0.000000</td>\n",
       "    </tr>\n",
       "    <tr>\n",
       "      <th>rourkela - ahmedabad</th>\n",
       "      <td>0.000000</td>\n",
       "      <td>12.833155</td>\n",
       "      <td>35.922918</td>\n",
       "      <td>0.000000</td>\n",
       "      <td>11.403387</td>\n",
       "      <td>22.497989</td>\n",
       "      <td>0.000000</td>\n",
       "      <td>0.000000</td>\n",
       "      <td>0.000000</td>\n",
       "    </tr>\n",
       "    <tr>\n",
       "      <th>rourkela - bhiwandi</th>\n",
       "      <td>1.000000</td>\n",
       "      <td>28.070748</td>\n",
       "      <td>128.348497</td>\n",
       "      <td>0.000000</td>\n",
       "      <td>8.497619</td>\n",
       "      <td>17.088586</td>\n",
       "      <td>0.000000</td>\n",
       "      <td>0.000000</td>\n",
       "      <td>0.000000</td>\n",
       "    </tr>\n",
       "    <tr>\n",
       "      <th>rourkela - faridabad</th>\n",
       "      <td>1.500000</td>\n",
       "      <td>38.733333</td>\n",
       "      <td>93.821924</td>\n",
       "      <td>0.000000</td>\n",
       "      <td>10.067708</td>\n",
       "      <td>19.755525</td>\n",
       "      <td>0.000000</td>\n",
       "      <td>0.000000</td>\n",
       "      <td>0.000000</td>\n",
       "    </tr>\n",
       "    <tr>\n",
       "      <th>rourkela - visakhapatnam</th>\n",
       "      <td>0.316667</td>\n",
       "      <td>15.888972</td>\n",
       "      <td>73.178298</td>\n",
       "      <td>0.000000</td>\n",
       "      <td>7.653704</td>\n",
       "      <td>14.937931</td>\n",
       "      <td>0.000000</td>\n",
       "      <td>0.033057</td>\n",
       "      <td>0.264645</td>\n",
       "    </tr>\n",
       "    <tr>\n",
       "      <th>vasind - ahmedabad</th>\n",
       "      <td>0.000000</td>\n",
       "      <td>31.804257</td>\n",
       "      <td>102.413415</td>\n",
       "      <td>0.000000</td>\n",
       "      <td>6.603355</td>\n",
       "      <td>13.713541</td>\n",
       "      <td>0.000000</td>\n",
       "      <td>0.000000</td>\n",
       "      <td>0.000000</td>\n",
       "    </tr>\n",
       "    <tr>\n",
       "      <th>vasind - bengaluru</th>\n",
       "      <td>1.000000</td>\n",
       "      <td>49.203485</td>\n",
       "      <td>145.955096</td>\n",
       "      <td>0.000000</td>\n",
       "      <td>6.645606</td>\n",
       "      <td>15.300228</td>\n",
       "      <td>0.000000</td>\n",
       "      <td>0.000000</td>\n",
       "      <td>0.000000</td>\n",
       "    </tr>\n",
       "    <tr>\n",
       "      <th>vasind - bhuj</th>\n",
       "      <td>0.525000</td>\n",
       "      <td>78.910938</td>\n",
       "      <td>197.979471</td>\n",
       "      <td>0.000000</td>\n",
       "      <td>6.655729</td>\n",
       "      <td>14.125097</td>\n",
       "      <td>0.000000</td>\n",
       "      <td>0.000000</td>\n",
       "      <td>0.000000</td>\n",
       "    </tr>\n",
       "    <tr>\n",
       "      <th>vasind - coimbatore</th>\n",
       "      <td>0.133333</td>\n",
       "      <td>28.945320</td>\n",
       "      <td>81.526980</td>\n",
       "      <td>0.000000</td>\n",
       "      <td>12.869977</td>\n",
       "      <td>24.618876</td>\n",
       "      <td>0.000000</td>\n",
       "      <td>0.000000</td>\n",
       "      <td>0.000000</td>\n",
       "    </tr>\n",
       "    <tr>\n",
       "      <th>vasind - jaipur</th>\n",
       "      <td>0.000000</td>\n",
       "      <td>18.550738</td>\n",
       "      <td>79.261523</td>\n",
       "      <td>0.000000</td>\n",
       "      <td>7.492876</td>\n",
       "      <td>20.665500</td>\n",
       "      <td>0.000000</td>\n",
       "      <td>0.000000</td>\n",
       "      <td>0.000000</td>\n",
       "    </tr>\n",
       "    <tr>\n",
       "      <th>vasind - jalgaon</th>\n",
       "      <td>0.500000</td>\n",
       "      <td>32.642708</td>\n",
       "      <td>110.460261</td>\n",
       "      <td>0.500000</td>\n",
       "      <td>5.196875</td>\n",
       "      <td>13.732558</td>\n",
       "      <td>0.000000</td>\n",
       "      <td>0.000000</td>\n",
       "      <td>0.000000</td>\n",
       "    </tr>\n",
       "    <tr>\n",
       "      <th>vasind - manipal</th>\n",
       "      <td>0.000000</td>\n",
       "      <td>45.372281</td>\n",
       "      <td>184.411359</td>\n",
       "      <td>0.000000</td>\n",
       "      <td>10.272105</td>\n",
       "      <td>19.603887</td>\n",
       "      <td>0.000000</td>\n",
       "      <td>0.000000</td>\n",
       "      <td>0.000000</td>\n",
       "    </tr>\n",
       "    <tr>\n",
       "      <th>vasind - mehsana</th>\n",
       "      <td>0.000000</td>\n",
       "      <td>19.966498</td>\n",
       "      <td>71.486308</td>\n",
       "      <td>0.000000</td>\n",
       "      <td>9.103114</td>\n",
       "      <td>17.801927</td>\n",
       "      <td>0.000000</td>\n",
       "      <td>0.000000</td>\n",
       "      <td>0.000000</td>\n",
       "    </tr>\n",
       "    <tr>\n",
       "      <th>vasind - mumbai</th>\n",
       "      <td>0.166667</td>\n",
       "      <td>62.130438</td>\n",
       "      <td>199.105939</td>\n",
       "      <td>0.000000</td>\n",
       "      <td>3.995120</td>\n",
       "      <td>9.219489</td>\n",
       "      <td>0.000000</td>\n",
       "      <td>0.000000</td>\n",
       "      <td>0.000000</td>\n",
       "    </tr>\n",
       "    <tr>\n",
       "      <th>vasind - pune</th>\n",
       "      <td>0.000000</td>\n",
       "      <td>23.936080</td>\n",
       "      <td>97.706073</td>\n",
       "      <td>0.000000</td>\n",
       "      <td>4.903905</td>\n",
       "      <td>10.150709</td>\n",
       "      <td>0.000000</td>\n",
       "      <td>0.000000</td>\n",
       "      <td>0.000000</td>\n",
       "    </tr>\n",
       "    <tr>\n",
       "      <th>vasind - rajkot</th>\n",
       "      <td>0.000000</td>\n",
       "      <td>25.625000</td>\n",
       "      <td>45.424617</td>\n",
       "      <td>0.000000</td>\n",
       "      <td>0.355952</td>\n",
       "      <td>0.632037</td>\n",
       "      <td>0.000000</td>\n",
       "      <td>0.000000</td>\n",
       "      <td>0.000000</td>\n",
       "    </tr>\n",
       "    <tr>\n",
       "      <th>vasind - ranjangaon</th>\n",
       "      <td>0.991667</td>\n",
       "      <td>35.613263</td>\n",
       "      <td>120.251631</td>\n",
       "      <td>0.000000</td>\n",
       "      <td>4.923122</td>\n",
       "      <td>11.839762</td>\n",
       "      <td>0.000000</td>\n",
       "      <td>0.000000</td>\n",
       "      <td>0.000000</td>\n",
       "    </tr>\n",
       "    <tr>\n",
       "      <th>vasind - taloja</th>\n",
       "      <td>0.125000</td>\n",
       "      <td>58.315603</td>\n",
       "      <td>171.368508</td>\n",
       "      <td>0.000000</td>\n",
       "      <td>2.884397</td>\n",
       "      <td>6.994071</td>\n",
       "      <td>0.000000</td>\n",
       "      <td>0.000000</td>\n",
       "      <td>0.000000</td>\n",
       "    </tr>\n",
       "    <tr>\n",
       "      <th>vasind - tiruchirappalli</th>\n",
       "      <td>0.000000</td>\n",
       "      <td>16.385606</td>\n",
       "      <td>44.477205</td>\n",
       "      <td>0.000000</td>\n",
       "      <td>0.410606</td>\n",
       "      <td>0.591955</td>\n",
       "      <td>0.000000</td>\n",
       "      <td>0.000000</td>\n",
       "      <td>0.000000</td>\n",
       "    </tr>\n",
       "    <tr>\n",
       "      <th>vasind - vada</th>\n",
       "      <td>1.000000</td>\n",
       "      <td>51.395588</td>\n",
       "      <td>190.851872</td>\n",
       "      <td>0.000000</td>\n",
       "      <td>5.042974</td>\n",
       "      <td>11.104863</td>\n",
       "      <td>0.000000</td>\n",
       "      <td>0.000000</td>\n",
       "      <td>0.000000</td>\n",
       "    </tr>\n",
       "  </tbody>\n",
       "</table>\n",
       "<p>182 rows × 9 columns</p>\n",
       "</div>"
      ],
      "text/plain": [
       "                                            stopped                           \\\n",
       "                                             median         mean         std   \n",
       "route                                                                          \n",
       "athagarh - alwar                           0.983333   106.684375  253.388819   \n",
       "athagarh - bhiwandi                        0.000000     2.921581   10.892111   \n",
       "athagarh - faridabad                       1.200000    14.840196   44.619520   \n",
       "athagarh - visakhapatnam                   0.975000    36.229102  102.748152   \n",
       "bamaloi - faridabad                        1.000000    35.581818   98.256994   \n",
       "bamaloi - visakhapatnam                    0.000000    17.539327   62.933176   \n",
       "bamnipal - ahmedabad                       2.008333    19.404630   34.596358   \n",
       "bamnipal - alwar                           0.500000    11.169444   24.496917   \n",
       "bamnipal - bhiwandi                        0.500000    15.606346   72.261332   \n",
       "bamnipal - faridabad                       0.483333    22.004762   79.246121   \n",
       "bamnipal - jajpur                          0.000000    21.794915   59.045897   \n",
       "bamnipal - jamshedpur                      1.000000    41.571242  116.061464   \n",
       "bamnipal - paradip                        18.983333   137.198990  215.767006   \n",
       "bamnipal - visakhapatnam                   0.000000    26.700966  124.681840   \n",
       "dhenkanal - ahmedabad                      0.000000    18.575588   78.933210   \n",
       "dhenkanal - faridabad                      1.000000    27.321078   96.752382   \n",
       "dhenkanal - visakhapatnam                  0.000000    23.446339   81.074418   \n",
       "duburi - chennai                           0.000000     0.000000    0.000000   \n",
       "duburi, jajpur - ahmedabad                 0.000000     0.000000    0.000000   \n",
       "duburi, jajpur - bahadurgarh               0.000000     0.000000    0.000000   \n",
       "duburi, jajpur - changodar                 0.000000     0.000000    0.000000   \n",
       "duburi, jajpur - chennai                   0.000000     0.000000    0.000000   \n",
       "duburi, jajpur - faridabad                 0.000000     0.000000    0.000000   \n",
       "duburi, jajpur - ghaziabad                 0.000000     0.000000    0.000000   \n",
       "duburi, jajpur - hyderabad                 0.000000     0.000000    0.000000   \n",
       "duburi, jajpur - hyderabad-dist. medak     0.000000     1.726961   13.880355   \n",
       "duburi, jajpur - ludhiana                  0.000000     0.000000    0.000000   \n",
       "duburi, jajpur - thiruninravur             0.000000     0.000000    0.000000   \n",
       "duburi, jajpur - vishakapatnam             0.000000     0.000000    0.000000   \n",
       "duburi, jajpur - vishakhapatnam            0.000000     0.000000    0.000000   \n",
       "...                                             ...          ...         ...   \n",
       "jamshedpur - veerappanur                  92.983333    92.983333         NaN   \n",
       "jamshedpur - vijayawada                    1.000000    36.821573  136.131833   \n",
       "jamshedpur - visakhapatnam                 0.000000    25.111481  104.739395   \n",
       "jamshedpur - vishakhapatnam                0.000000    16.133537   50.536303   \n",
       "jharkhand - jaipur                         0.000000     0.000000    0.000000   \n",
       "jharkhand - new delhi                      0.000000    16.972637   82.176841   \n",
       "joda - nagpur                              0.183333    16.841358   61.215461   \n",
       "palwal - htpl- fariadabad                  0.000000    27.645652  127.251152   \n",
       "palwal - khuskhera                         0.000000    15.115952   89.995511   \n",
       "pune - jamshedpur                       1070.200000  1070.200000         NaN   \n",
       "raigarh - bhiwandi                         1.000000    22.053472   78.095100   \n",
       "rourkela - ahmedabad                       0.000000    12.833155   35.922918   \n",
       "rourkela - bhiwandi                        1.000000    28.070748  128.348497   \n",
       "rourkela - faridabad                       1.500000    38.733333   93.821924   \n",
       "rourkela - visakhapatnam                   0.316667    15.888972   73.178298   \n",
       "vasind - ahmedabad                         0.000000    31.804257  102.413415   \n",
       "vasind - bengaluru                         1.000000    49.203485  145.955096   \n",
       "vasind - bhuj                              0.525000    78.910938  197.979471   \n",
       "vasind - coimbatore                        0.133333    28.945320   81.526980   \n",
       "vasind - jaipur                            0.000000    18.550738   79.261523   \n",
       "vasind - jalgaon                           0.500000    32.642708  110.460261   \n",
       "vasind - manipal                           0.000000    45.372281  184.411359   \n",
       "vasind - mehsana                           0.000000    19.966498   71.486308   \n",
       "vasind - mumbai                            0.166667    62.130438  199.105939   \n",
       "vasind - pune                              0.000000    23.936080   97.706073   \n",
       "vasind - rajkot                            0.000000    25.625000   45.424617   \n",
       "vasind - ranjangaon                        0.991667    35.613263  120.251631   \n",
       "vasind - taloja                            0.125000    58.315603  171.368508   \n",
       "vasind - tiruchirappalli                   0.000000    16.385606   44.477205   \n",
       "vasind - vada                              1.000000    51.395588  190.851872   \n",
       "\n",
       "                                          moving                         \\\n",
       "                                          median       mean         std   \n",
       "route                                                                     \n",
       "athagarh - alwar                        0.000000   4.950000    9.404684   \n",
       "athagarh - bhiwandi                     2.500000  13.421368   23.427823   \n",
       "athagarh - faridabad                    0.000000   2.396078    4.180471   \n",
       "athagarh - visakhapatnam                0.000000   9.180013   18.146939   \n",
       "bamaloi - faridabad                     0.000000   8.181710   19.229534   \n",
       "bamaloi - visakhapatnam                 0.000000   8.419097   30.604344   \n",
       "bamnipal - ahmedabad                    0.000000  10.819444   18.511465   \n",
       "bamnipal - alwar                        1.000000   1.833333    2.228602   \n",
       "bamnipal - bhiwandi                     0.000000   8.162180   17.839277   \n",
       "bamnipal - faridabad                    0.500000   9.907738   19.167514   \n",
       "bamnipal - jajpur                       0.000000   3.714144    8.554817   \n",
       "bamnipal - jamshedpur                   0.000000   6.398366   13.458112   \n",
       "bamnipal - paradip                      0.000000   0.363384    0.736434   \n",
       "bamnipal - visakhapatnam                0.000000   6.011320   14.434411   \n",
       "dhenkanal - ahmedabad                   0.066667  17.581275   62.080446   \n",
       "dhenkanal - faridabad                   0.000000   2.676471    8.692458   \n",
       "dhenkanal - visakhapatnam               0.000000   6.540587   16.259677   \n",
       "duburi - chennai                        0.000000  28.332716   40.402041   \n",
       "duburi, jajpur - ahmedabad              0.000000  42.602482   69.292647   \n",
       "duburi, jajpur - bahadurgarh            0.000000  35.673834   56.408531   \n",
       "duburi, jajpur - changodar              0.000000  45.002151   72.045936   \n",
       "duburi, jajpur - chennai                0.000000  36.865962   62.087407   \n",
       "duburi, jajpur - faridabad              0.000000  38.302246   62.269606   \n",
       "duburi, jajpur - ghaziabad              0.000000  48.333333  123.186850   \n",
       "duburi, jajpur - hyderabad              0.000000  40.230243   62.963888   \n",
       "duburi, jajpur - hyderabad-dist. medak  0.000000  28.087908   56.378072   \n",
       "duburi, jajpur - ludhiana               0.000000  50.330556   93.129643   \n",
       "duburi, jajpur - thiruninravur          0.000000  36.537500   65.204874   \n",
       "duburi, jajpur - vishakapatnam          0.000000  38.286910   61.982089   \n",
       "duburi, jajpur - vishakhapatnam         0.000000  34.778854   57.953356   \n",
       "...                                          ...        ...         ...   \n",
       "jamshedpur - veerappanur                0.000000   0.000000         NaN   \n",
       "jamshedpur - vijayawada                 0.000000  11.264569   23.822901   \n",
       "jamshedpur - visakhapatnam              0.000000  12.378923   33.887470   \n",
       "jamshedpur - vishakhapatnam             0.000000   9.370408   19.325484   \n",
       "jharkhand - jaipur                      0.000000  25.908081   46.274134   \n",
       "jharkhand - new delhi                   0.000000  17.938557   39.063001   \n",
       "joda - nagpur                           0.000000   8.522222   35.416188   \n",
       "palwal - htpl- fariadabad               0.000000   1.651449    2.403496   \n",
       "palwal - khuskhera                      0.000000   1.788571    4.072017   \n",
       "pune - jamshedpur                       0.000000   0.000000         NaN   \n",
       "raigarh - bhiwandi                      0.000000  13.418056   25.078976   \n",
       "rourkela - ahmedabad                    0.000000  11.403387   22.497989   \n",
       "rourkela - bhiwandi                     0.000000   8.497619   17.088586   \n",
       "rourkela - faridabad                    0.000000  10.067708   19.755525   \n",
       "rourkela - visakhapatnam                0.000000   7.653704   14.937931   \n",
       "vasind - ahmedabad                      0.000000   6.603355   13.713541   \n",
       "vasind - bengaluru                      0.000000   6.645606   15.300228   \n",
       "vasind - bhuj                           0.000000   6.655729   14.125097   \n",
       "vasind - coimbatore                     0.000000  12.869977   24.618876   \n",
       "vasind - jaipur                         0.000000   7.492876   20.665500   \n",
       "vasind - jalgaon                        0.500000   5.196875   13.732558   \n",
       "vasind - manipal                        0.000000  10.272105   19.603887   \n",
       "vasind - mehsana                        0.000000   9.103114   17.801927   \n",
       "vasind - mumbai                         0.000000   3.995120    9.219489   \n",
       "vasind - pune                           0.000000   4.903905   10.150709   \n",
       "vasind - rajkot                         0.000000   0.355952    0.632037   \n",
       "vasind - ranjangaon                     0.000000   4.923122   11.839762   \n",
       "vasind - taloja                         0.000000   2.884397    6.994071   \n",
       "vasind - tiruchirappalli                0.000000   0.410606    0.591955   \n",
       "vasind - vada                           0.000000   5.042974   11.104863   \n",
       "\n",
       "                                             idle                          \n",
       "                                           median        mean         std  \n",
       "route                                                                      \n",
       "athagarh - alwar                         0.000000    0.000000    0.000000  \n",
       "athagarh - bhiwandi                      0.000000    0.000000    0.000000  \n",
       "athagarh - faridabad                     0.000000    0.000000    0.000000  \n",
       "athagarh - visakhapatnam                 0.000000    0.000000    0.000000  \n",
       "bamaloi - faridabad                      0.000000    0.000000    0.000000  \n",
       "bamaloi - visakhapatnam                  0.000000    0.911616    7.852984  \n",
       "bamnipal - ahmedabad                     0.000000    0.000000    0.000000  \n",
       "bamnipal - alwar                         0.000000    0.000000    0.000000  \n",
       "bamnipal - bhiwandi                      0.000000    0.000000    0.000000  \n",
       "bamnipal - faridabad                     0.000000    0.000000    0.000000  \n",
       "bamnipal - jajpur                        0.000000    1.575363   13.105839  \n",
       "bamnipal - jamshedpur                    0.000000    0.000000    0.000000  \n",
       "bamnipal - paradip                       0.000000   31.538131  138.545455  \n",
       "bamnipal - visakhapatnam                 0.000000    0.196312    0.660817  \n",
       "dhenkanal - ahmedabad                    0.000000    0.000000    0.000000  \n",
       "dhenkanal - faridabad                    0.000000    0.000000    0.000000  \n",
       "dhenkanal - visakhapatnam                0.000000    0.304535    2.937758  \n",
       "duburi - chennai                        15.000000  130.001235  227.408463  \n",
       "duburi, jajpur - ahmedabad              14.991667  124.153014  258.542864  \n",
       "duburi, jajpur - bahadurgarh            15.000000   97.228670  231.253065  \n",
       "duburi, jajpur - changodar              14.966667   92.902151  184.134725  \n",
       "duburi, jajpur - chennai                15.000000  158.820481  338.524332  \n",
       "duburi, jajpur - faridabad              14.983333  123.399409  262.679390  \n",
       "duburi, jajpur - ghaziabad              60.033333  585.003704  676.700913  \n",
       "duburi, jajpur - hyderabad              15.000000  129.636645  247.793587  \n",
       "duburi, jajpur - hyderabad-dist. medak  15.000000  209.421242  387.272827  \n",
       "duburi, jajpur - ludhiana                7.491667   68.420486  208.905966  \n",
       "duburi, jajpur - thiruninravur          15.000000  141.588542  303.853561  \n",
       "duburi, jajpur - vishakapatnam          15.000000  169.931279  335.066448  \n",
       "duburi, jajpur - vishakhapatnam         15.000000  134.439062  266.540559  \n",
       "...                                           ...         ...         ...  \n",
       "jamshedpur - veerappanur                 0.000000    0.000000         NaN  \n",
       "jamshedpur - vijayawada                  0.000000    0.000000    0.000000  \n",
       "jamshedpur - visakhapatnam               0.000000   12.907811   94.905346  \n",
       "jamshedpur - vishakhapatnam              0.000000    0.000000    0.000000  \n",
       "jharkhand - jaipur                      29.983333  276.361616  443.146402  \n",
       "jharkhand - new delhi                    0.000000   29.102985  147.347983  \n",
       "joda - nagpur                            0.000000    0.000000    0.000000  \n",
       "palwal - htpl- fariadabad                0.000000    0.589130    0.903774  \n",
       "palwal - khuskhera                       0.100000    3.662381   16.377300  \n",
       "pune - jamshedpur                        0.000000    0.000000         NaN  \n",
       "raigarh - bhiwandi                       0.000000    0.000000    0.000000  \n",
       "rourkela - ahmedabad                     0.000000    0.000000    0.000000  \n",
       "rourkela - bhiwandi                      0.000000    0.000000    0.000000  \n",
       "rourkela - faridabad                     0.000000    0.000000    0.000000  \n",
       "rourkela - visakhapatnam                 0.000000    0.033057    0.264645  \n",
       "vasind - ahmedabad                       0.000000    0.000000    0.000000  \n",
       "vasind - bengaluru                       0.000000    0.000000    0.000000  \n",
       "vasind - bhuj                            0.000000    0.000000    0.000000  \n",
       "vasind - coimbatore                      0.000000    0.000000    0.000000  \n",
       "vasind - jaipur                          0.000000    0.000000    0.000000  \n",
       "vasind - jalgaon                         0.000000    0.000000    0.000000  \n",
       "vasind - manipal                         0.000000    0.000000    0.000000  \n",
       "vasind - mehsana                         0.000000    0.000000    0.000000  \n",
       "vasind - mumbai                          0.000000    0.000000    0.000000  \n",
       "vasind - pune                            0.000000    0.000000    0.000000  \n",
       "vasind - rajkot                          0.000000    0.000000    0.000000  \n",
       "vasind - ranjangaon                      0.000000    0.000000    0.000000  \n",
       "vasind - taloja                          0.000000    0.000000    0.000000  \n",
       "vasind - tiruchirappalli                 0.000000    0.000000    0.000000  \n",
       "vasind - vada                            0.000000    0.000000    0.000000  \n",
       "\n",
       "[182 rows x 9 columns]"
      ]
     },
     "execution_count": 11,
     "metadata": {},
     "output_type": "execute_result"
    }
   ],
   "source": [
    "ddf.groupby('route')[['stopped','moving','idle']].agg(['median','mean','std'])"
   ]
  },
  {
   "cell_type": "code",
   "execution_count": 12,
   "metadata": {},
   "outputs": [],
   "source": [
    "route_median_mean_std.to_csv('RouteWise_analysis.csv')"
   ]
  },
  {
   "cell_type": "code",
   "execution_count": 14,
   "metadata": {},
   "outputs": [],
   "source": [
    "ddf['total_stopped'] = 0\n",
    "ddf['total_moving'] = 0\n",
    "ddf['total_idle'] = 0"
   ]
  },
  {
   "cell_type": "code",
   "execution_count": null,
   "metadata": {},
   "outputs": [],
   "source": []
  },
  {
   "cell_type": "code",
   "execution_count": 20,
   "metadata": {},
   "outputs": [],
   "source": [
    "for truck in ddf.vehicle_no.unique().tolist():\n",
    "    for route in ddf[ddf['vehicle_no'] == truck].route.unique().tolist():\n",
    "        lis = [ddf[(ddf['vehicle_no'] == truck) & (ddf['route'] == route)]['stopped'].sum(), ddf[(ddf['vehicle_no'] == truck) & (ddf['route'] == route)]['moving'].sum(), ddf[(ddf['vehicle_no'] == truck) & (ddf['route'] == route)]['idle'].sum()]\n",
    "#         print lis\n",
    "        ddf.loc[(ddf['vehicle_no'] == truck) & (ddf['route'] == route), ['total_stopped','total_moving','total_idle']] = lis"
   ]
  },
  {
   "cell_type": "code",
   "execution_count": 22,
   "metadata": {},
   "outputs": [],
   "source": [
    "ddf['total_stopped'] = ddf['total_stopped'].apply(lambda x: x/60)\n",
    "ddf['total_moving'] = ddf['total_moving'].apply(lambda x: x/60)\n",
    "ddf['total_idle'] = ddf['total_idle'].apply(lambda x: x/60)"
   ]
  },
  {
   "cell_type": "code",
   "execution_count": null,
   "metadata": {},
   "outputs": [],
   "source": []
  },
  {
   "cell_type": "code",
   "execution_count": 27,
   "metadata": {
    "scrolled": false
   },
   "outputs": [],
   "source": [
    "route_analysis = ddf.groupby('route')[['total_stopped','total_moving','total_idle']].agg(['median','mean','std','min','max'])"
   ]
  },
  {
   "cell_type": "code",
   "execution_count": 28,
   "metadata": {},
   "outputs": [],
   "source": [
    "route_analysis.to_csv('Routewise_truck_analysis.csv', index=False)"
   ]
  },
  {
   "cell_type": "code",
   "execution_count": null,
   "metadata": {},
   "outputs": [],
   "source": []
  },
  {
   "cell_type": "code",
   "execution_count": 47,
   "metadata": {},
   "outputs": [],
   "source": [
    "df = ddf[['route','vehicle_no','total_stopped','total_moving','total_idle']]"
   ]
  },
  {
   "cell_type": "code",
   "execution_count": 51,
   "metadata": {},
   "outputs": [],
   "source": [
    "df = df.drop_duplicates()\n",
    "# df.drop_duplicates(subset=['A', 'C'], keep=False)\n",
    "# df.total_idle.value_counts()"
   ]
  },
  {
   "cell_type": "code",
   "execution_count": 52,
   "metadata": {},
   "outputs": [
    {
     "data": {
      "text/plain": [
       "(1151, 5)"
      ]
     },
     "execution_count": 52,
     "metadata": {},
     "output_type": "execute_result"
    }
   ],
   "source": [
    "df.shape"
   ]
  },
  {
   "cell_type": "code",
   "execution_count": 58,
   "metadata": {},
   "outputs": [],
   "source": [
    "df = df.sort_values('route')"
   ]
  },
  {
   "cell_type": "code",
   "execution_count": 61,
   "metadata": {},
   "outputs": [],
   "source": [
    "df = df.reset_index(drop=True)"
   ]
  },
  {
   "cell_type": "code",
   "execution_count": 62,
   "metadata": {},
   "outputs": [],
   "source": [
    "df.to_csv('Route_Analysis_with_vehicle_number.csv', index=False)"
   ]
  },
  {
   "cell_type": "code",
   "execution_count": null,
   "metadata": {},
   "outputs": [],
   "source": []
  },
  {
   "cell_type": "code",
   "execution_count": null,
   "metadata": {},
   "outputs": [],
   "source": []
  },
  {
   "cell_type": "code",
   "execution_count": null,
   "metadata": {},
   "outputs": [],
   "source": []
  }
 ],
 "metadata": {
  "kernelspec": {
   "display_name": "Python 2",
   "language": "python",
   "name": "python2"
  },
  "language_info": {
   "codemirror_mode": {
    "name": "ipython",
    "version": 2
   },
   "file_extension": ".py",
   "mimetype": "text/x-python",
   "name": "python",
   "nbconvert_exporter": "python",
   "pygments_lexer": "ipython2",
   "version": "2.7.12"
  }
 },
 "nbformat": 4,
 "nbformat_minor": 2
}
